{
 "cells": [
  {
   "cell_type": "markdown",
   "metadata": {},
   "source": [
    "### Find the element that appears once\n",
    "Given an array where every element occurs three times, except one element which occurs only once. Find the element that occurs once. Expected time complexity is O(n) and O(1) extra space.\n",
    "Examples:\n",
    "\n",
    "Input: arr[] = {1,2, 1, 1,2, 3, 1,2, 1, 1, 2, 3, 3}\n",
    "\n",
    "Output: 2"
   ]
  },
  {
   "cell_type": "code",
   "execution_count": 1,
   "metadata": {},
   "outputs": [
    {
     "name": "stdout",
     "output_type": "stream",
     "text": [
      "2\n",
      "35\n"
     ]
    }
   ],
   "source": [
    "class Solution:\n",
    "    def getSingle(self,arr,n):\n",
    "        ones = 0\n",
    "        twos = 0\n",
    "        for i in range(n):\n",
    "            twos = twos | (ones & arr[i])\n",
    "            ones = ones ^ arr[i]\n",
    "            common_bit_mask = ~(ones & twos)\n",
    "            ones &= common_bit_mask\n",
    "            twos &= common_bit_mask\n",
    "        return ones\n",
    "    \n",
    "if __name__=='__main__':\n",
    "    sol = Solution()\n",
    "    arr = [3,3,2,3]\n",
    "    print(sol.getSingle(arr,len(arr)))\n",
    "    arr2 = [1,2,1,1,2,3,1,2,1,1,2,3,3,33]\n",
    "    print(sol.getSingle(arr2,len(arr2)))"
   ]
  },
  {
   "cell_type": "markdown",
   "metadata": {},
   "source": [
    "### Detect if two integers have opposite signs\n",
    "Given two signed integers, write a function that returns true if the signs of given integers are different, otherwise false. For example, the function should return true -1 and +100, and should return false for -100 and -200. The function should not use any of the arithmetic operators.\n",
    "\n",
    "Let the given integers be x and y. The sign bit is 1 in negative numbers, and 0 in positive numbers. The XOR of x and y will have the sign bit as 1 iff they have opposite sign. In other words, XOR of x and y will be negative number number iff x and y have opposite signs. The following code use this logic."
   ]
  },
  {
   "cell_type": "code",
   "execution_count": 6,
   "metadata": {},
   "outputs": [
    {
     "name": "stdout",
     "output_type": "stream",
     "text": [
      "True\n"
     ]
    }
   ],
   "source": [
    "class Solution:\n",
    "    def oppositeSigns(self, x, y):\n",
    "        return ((x^y)<0)\n",
    "    \n",
    "if __name__=='__main__':\n",
    "    sol = Solution()\n",
    "    print(sol.oppositeSigns(-12,2))"
   ]
  },
  {
   "cell_type": "markdown",
   "metadata": {},
   "source": [
    "### Add 1 to a given number\n",
    "Write a program to add one to a given number. The use of operators like ‘+’, ‘-‘, ‘*’, ‘/’, ‘++’, ‘–‘ …etc are not allowed."
   ]
  },
  {
   "cell_type": "code",
   "execution_count": 14,
   "metadata": {},
   "outputs": [
    {
     "name": "stdout",
     "output_type": "stream",
     "text": [
      "4\n",
      "4\n"
     ]
    }
   ],
   "source": [
    "class Solution:\n",
    "    def addOne(self,x):\n",
    "        m = 1;\n",
    "        # Flip all the set bits\n",
    "        # until we find a 0 \n",
    "        while(x & m):\n",
    "            x = x ^ m\n",
    "            m <<= 1\n",
    "     \n",
    "        # flip the rightmost \n",
    "        # 0 bit \n",
    "        x = x ^ m\n",
    "        return x\n",
    "class Solution2:\n",
    "    def addOne(self,x):\n",
    "        return(-(~x))\n",
    "\n",
    "if __name__=='__main__':\n",
    "    sol1 = Solution();\n",
    "    sol2 = Solution2()\n",
    "    print(sol1.addOne(3))\n",
    "    print(sol2.addOne(3))"
   ]
  },
  {
   "cell_type": "markdown",
   "metadata": {},
   "source": [
    "### Multiply a given Integer with 3.5 (only for even numbers??)\n",
    "Given a integer x, write a function that multiplies x with 3.5 and returns the integer result. You are not allowed to use %, /, *. "
   ]
  },
  {
   "cell_type": "code",
   "execution_count": 22,
   "metadata": {},
   "outputs": [
    {
     "name": "stdout",
     "output_type": "stream",
     "text": [
      "14\n"
     ]
    }
   ],
   "source": [
    "class Solution:\n",
    "    def multiplyByThreePointFive(self,x):\n",
    "        return (x<<1)+ x + (x>>1)\n",
    "if __name__=='__main__':\n",
    "    sol = Solution()\n",
    "    print(sol.multiplyByThreePointFive(4))"
   ]
  },
  {
   "cell_type": "markdown",
   "metadata": {},
   "source": [
    "### Turn off the rightmost set bit\n",
    "Examples:\n",
    "\n",
    "Input:  12 (00...01100)\n",
    "Output: 8 (00...01000)\n",
    "\n",
    "Input:  7 (00...00111)\n",
    "Output: 6 (00...00110)"
   ]
  },
  {
   "cell_type": "code",
   "execution_count": 25,
   "metadata": {},
   "outputs": [
    {
     "name": "stdout",
     "output_type": "stream",
     "text": [
      "4\n"
     ]
    }
   ],
   "source": [
    "class Solution:\n",
    "    def turnOffRightMostDigit(self,x):\n",
    "        return x&(x-1)\n",
    "if __name__=='__main__':\n",
    "    sol = Solution()\n",
    "    print(sol.turnOffRightMostDigit(6))"
   ]
  },
  {
   "cell_type": "markdown",
   "metadata": {},
   "source": [
    "### Find whether a given number is a power of 4 or not "
   ]
  },
  {
   "cell_type": "code",
   "execution_count": 31,
   "metadata": {},
   "outputs": [
    {
     "name": "stdout",
     "output_type": "stream",
     "text": [
      "True\n"
     ]
    }
   ],
   "source": [
    "class Solution:\n",
    "    def isPowerOfFour(self,n):\n",
    "     \n",
    "        count = 0\n",
    "     \n",
    "        # Check if there is only one \n",
    "        # bit set in n\n",
    "        if (n and (not(n & (n - 1)))):\n",
    "         \n",
    "            # count 0 bits before set bit \n",
    "            while(n > 1):\n",
    "                n >>= 1\n",
    "                count += 1\n",
    "         \n",
    "            # If count is even then return\n",
    "            # true else false\n",
    "            if(count % 2 == 0):\n",
    "                return True\n",
    "            else:\n",
    "                return False\n",
    "        return False\n",
    "if __name__=='__main__':\n",
    "    sol = Solution()\n",
    "    print(sol.isPowerOfFour(16))"
   ]
  },
  {
   "cell_type": "markdown",
   "metadata": {},
   "source": [
    "### Compute modulus division by a power-of-2-number\n",
    "Compute n modulo d without division(/) and modulo(%) operators, where d is a power of 2 number.\n",
    "\n",
    "Let ith bit from right is set in d. For getting n modulus d, we just need to return 0 to i-1 (from right) bits of n as they are and other bits as 0.\n",
    "\n",
    "For example if n = 6 (00..110) and d = 4(00..100). Last set bit in d is at position 3 (from right side). So we need to return last two bits of n as they are and other bits as 0, i.e., 00..010.\n",
    "\n",
    "Now doing it is so easy, guess it….\n",
    "\n",
    "Yes, you have guessing it right. See the below program."
   ]
  },
  {
   "cell_type": "code",
   "execution_count": 34,
   "metadata": {},
   "outputs": [
    {
     "name": "stdout",
     "output_type": "stream",
     "text": [
      "2\n"
     ]
    }
   ],
   "source": [
    "class Solution:\n",
    "    def getMod(self, n, d):\n",
    "        return n&(d-1)\n",
    "if __name__=='__main__':\n",
    "    sol = Solution()\n",
    "    print(sol.getMod(6,4))"
   ]
  },
  {
   "cell_type": "markdown",
   "metadata": {},
   "source": [
    "### Rotate bits of a number\n",
    "Bit Rotation: A rotation (or circular shift) is an operation similar to shift except that the bits that fall off at one end are put back to the other end.\n",
    "\n",
    "In left rotation, the bits that fall off at left end are put back at right end.\n",
    "\n",
    "In right rotation, the bits that fall off at right end are put back at left end.\n",
    "\n",
    "Example:\n",
    "Let n is stored using 8 bits. Left rotation of n = 11100101 by 3 makes n = 00101111 (Left shifted by 3 and first 3 bits are put back in last ). If n is stored using 16 bits or 32 bits then left rotation of n (000…11100101) becomes 00..0011100101000.\n",
    "Right rotation of n = 11100101 by 3 makes n = 10111100 (Right shifted by 3 and last 3 bits are put back in first ) if n is stored using 8 bits. If n is stored using 16 bits or 32 bits then right rotation of n (000…11100101) by 3 becomes 101000..0011100."
   ]
  },
  {
   "cell_type": "code",
   "execution_count": 1,
   "metadata": {},
   "outputs": [
    {
     "name": "stdout",
     "output_type": "stream",
     "text": [
      "8\n"
     ]
    }
   ],
   "source": [
    "class Solution:\n",
    "    def rotl(self, num, bits):\n",
    "        bit = num & (1 << (bits - 1))\n",
    "        num <<= 1\n",
    "        if (bit):\n",
    "            num |= 1\n",
    "        num &= (2 ** bits - 1)\n",
    "\n",
    "        return num\n",
    "\n",
    "    def rotr(self, num, bits):\n",
    "        num &= (2 ** bits - 1)\n",
    "        bit = num & 1\n",
    "        num >>= 1\n",
    "        if (bit):\n",
    "            num |= (1 << (bits - 1))\n",
    "\n",
    "        return num\n",
    "\n",
    "if __name__=='__main__':\n",
    "    sol = Solution();\n",
    "    print(sol.rotl(4,4))"
   ]
  },
  {
   "cell_type": "markdown",
   "metadata": {},
   "source": [
    "###  Find the Number Occurring Odd Number of Times\n",
    "1.7\n",
    "Given an array of positive integers. All numbers occur even number of times except one number which occurs odd number of times. Find the number in O(n) time & constant space.\n",
    "\n",
    "Example:\n",
    "I/P = [1, 2, 3, 2, 3, 1, 3]\n",
    "O/P = 3"
   ]
  },
  {
   "cell_type": "code",
   "execution_count": 3,
   "metadata": {},
   "outputs": [
    {
     "name": "stdout",
     "output_type": "stream",
     "text": [
      "5\n"
     ]
    }
   ],
   "source": [
    "# Python program to find the element occurring odd number of times\n",
    " \n",
    "def getOddOccurrence(arr):\n",
    " \n",
    "    # Initialize result\n",
    "    res = 0\n",
    "     \n",
    "    # Traverse the array\n",
    "    for element in arr:\n",
    "        # XOR with the result\n",
    "        res = res ^ element\n",
    " \n",
    "    return res\n",
    " \n",
    "# Test array\n",
    "arr = [ 2, 3, 5, 4, 5, 2, 4, 3, 5, 2, 4, 4, 2]\n",
    "print(getOddOccurrence(arr))"
   ]
  },
  {
   "cell_type": "markdown",
   "metadata": {},
   "source": [
    "### Count set bits in an integer\n",
    "Write an efficient program to count number of 1s in binary representation of an integer.\n",
    "\n",
    "Examples\n",
    "\n",
    "Input : n = 6\n",
    "Output : 2\n",
    "Binary representation of 6 is 110 and has 2 set bits\n",
    "\n",
    "Input : n = 13\n",
    "Output : 3\n",
    "Binary representation of 11 is 1101 and has 3 set bits"
   ]
  },
  {
   "cell_type": "code",
   "execution_count": 22,
   "metadata": {},
   "outputs": [
    {
     "name": "stdout",
     "output_type": "stream",
     "text": [
      "4\n",
      "4\n",
      "4\n"
     ]
    }
   ],
   "source": [
    "class Solution:\n",
    "    def countSetBits(self,n):\n",
    "        count = 0\n",
    "        while(n):\n",
    "            count += n&1\n",
    "            n>>=1\n",
    "        return count\n",
    "    def countSetBitsr(self,n):\n",
    "        if(n==0):\n",
    "            return 0\n",
    "        else:\n",
    "            return (n&1) + self.countSetBitsr(n>>1)\n",
    "    def countSetBits2(self,n):\n",
    "        count = 0\n",
    "        while(n):\n",
    "            n = n&(n-1)\n",
    "            count+=1\n",
    "        return count\n",
    "            \n",
    "    \n",
    "    \n",
    "if __name__=='__main__':\n",
    "    sol = Solution()\n",
    "    print(sol.countSetBits(77))\n",
    "    solr = Solution()\n",
    "    print(solr.countSetBitsr(77))\n",
    "    print(sol.countSetBitsr(77))"
   ]
  },
  {
   "cell_type": "markdown",
   "metadata": {},
   "source": [
    "### Count number of bits to be flipped to convert A to B\n",
    "Given two numbers ‘a’ and b’. Write a program to count number of bits needed to be flipped to convert ‘a’ to ‘b’.\n",
    "\n",
    "Example :\n",
    "\n",
    "Input : a = 10, b = 20\n",
    "\n",
    "Output : 4\n",
    "\n",
    "Binary representation of a is 00001010\n",
    "\n",
    "Binary representation of b is 00010100\n",
    "\n",
    "We need to flip highlighted four bits in a to make it b.\n",
    "\n",
    "Input : a = 7, b = 10\n",
    "\n",
    "Output : 3\n",
    "\n",
    "Binary representation of a is 00000111\n",
    "Binary representation of b is 00001010\n",
    "\n",
    "We need to flip highlighted three bits in a to make it b. "
   ]
  },
  {
   "cell_type": "code",
   "execution_count": 27,
   "metadata": {},
   "outputs": [
    {
     "name": "stdout",
     "output_type": "stream",
     "text": [
      "4\n"
     ]
    }
   ],
   "source": [
    "class Solution:\n",
    "    def countSetBits(self,n):\n",
    "        count = 0\n",
    "        while(n):\n",
    "            count +=n&1\n",
    "            n=n>>1\n",
    "        return count\n",
    "    def FlippedCount(self, a, b):\n",
    "        return self.countSetBits(a^b)\n",
    "    \n",
    "if __name__=='__main__':\n",
    "    sol = Solution()\n",
    "    print(sol.FlippedCount(10,20))"
   ]
  },
  {
   "cell_type": "markdown",
   "metadata": {},
   "source": [
    "### Efficient way to multiply with 7\n",
    "We can multiply a number by 7 using bitwise operator. First left shift the number by 3 bits (you will get 8n) then subtract the original numberfrom the shifted number and return the difference (8n – n). "
   ]
  },
  {
   "cell_type": "code",
   "execution_count": 29,
   "metadata": {},
   "outputs": [
    {
     "name": "stdout",
     "output_type": "stream",
     "text": [
      "28\n"
     ]
    }
   ],
   "source": [
    "class Solution:\n",
    "    def multiplyBySeven(self,n):\n",
    "        return ((n<<3)-n)\n",
    "if __name__=='__main__':\n",
    "    print(Solution().multiplyBySeven(4))"
   ]
  },
  {
   "cell_type": "markdown",
   "metadata": {},
   "source": [
    "### Program to find whether a no is power of two\n",
    "Given a positive integer, write a function to find if it is a power of two or not.\n",
    "\n",
    "Examples:\n",
    "\n",
    "Input : n = 4\n",
    "Output : Yes\n",
    "22 = 4\n",
    "\n",
    "Input : n = 7\n",
    "Output : No\n",
    "\n",
    "Input : n = 32\n",
    "Output : Yes\n",
    "25 = 32"
   ]
  },
  {
   "cell_type": "code",
   "execution_count": 37,
   "metadata": {},
   "outputs": [
    {
     "name": "stdout",
     "output_type": "stream",
     "text": [
      "False\n"
     ]
    }
   ],
   "source": [
    "class Solution:\n",
    "    def isPowerOfTwoNaive(self,n):\n",
    "        count = 0\n",
    "        while(n):\n",
    "            if(n&1):\n",
    "                count+=1\n",
    "            if count>1:\n",
    "                return False\n",
    "            n>>=1\n",
    "        return count==1\n",
    "    def isPowerOfTwo(self,n):\n",
    "        return (n and not(n & (n-1)))\n",
    "    \n",
    "if __name__=='__main__':\n",
    "    print(Solution().isPowerOfTwo(654))\n",
    "            "
   ]
  },
  {
   "cell_type": "markdown",
   "metadata": {},
   "source": [
    "### Position of rightmost set bit\n",
    "Write a one line C function to return position of first 1 from right to left, in binary representation of an Integer.\n",
    "\n",
    "I/P    18,   Binary Representation 010010\n",
    "O/P   2\n",
    "I/P    19,   Binary Representation 010011\n",
    "O/P   1"
   ]
  },
  {
   "cell_type": "code",
   "execution_count": 44,
   "metadata": {},
   "outputs": [
    {
     "name": "stdout",
     "output_type": "stream",
     "text": [
      "2.0\n"
     ]
    }
   ],
   "source": [
    "import math\n",
    "class Solution:\n",
    "    def getFirstSetBitPos(self,n):\n",
    "        return math.log(n&-n,2)+1;\n",
    "if __name__=='__main__':\n",
    "    print(Solution().getFirstSetBitPos(6))"
   ]
  },
  {
   "cell_type": "markdown",
   "metadata": {},
   "source": [
    "### Binary representation of a given number\n",
    "Write a program to print Binary representation of a given number. "
   ]
  },
  {
   "cell_type": "code",
   "execution_count": 73,
   "metadata": {},
   "outputs": [
    {
     "name": "stdout",
     "output_type": "stream",
     "text": [
      "[1, 1, 1, 1, 1, 1, 1, 1, 1, 1, 1, 1, 1, 1, 1, 1, 1, 1, 1, 1, 1, 1, 1, 1, 1, 1, 1, 1, 1, 1, 1, 1]\n"
     ]
    }
   ],
   "source": [
    "class Solution:\n",
    "    def binaryRepresentation(self,n):\n",
    "        arr = []\n",
    "        i=1<<31\n",
    "        while(i>0):\n",
    "            if(n&1==1):\n",
    "                arr.append(1)\n",
    "            else:\n",
    "                arr.append(0)\n",
    "            i>>=1\n",
    "        return str(arr)\n",
    "if __name__=='__main__':\n",
    "    print(Solution().binaryRepresentation(7))"
   ]
  },
  {
   "cell_type": "markdown",
   "metadata": {
    "collapsed": true
   },
   "source": [
    "### How to swap two numbers without using a temporary variable?\n",
    "Given two variables, x and y, swap two variables without using a third variable "
   ]
  },
  {
   "cell_type": "code",
   "execution_count": 3,
   "metadata": {},
   "outputs": [
    {
     "name": "stdout",
     "output_type": "stream",
     "text": [
      "3 2\n",
      "None\n"
     ]
    }
   ],
   "source": [
    "class Solution:\n",
    "    def swapTwoNumbers(self, a, b):\n",
    "        a = a ^ b\n",
    "        b = a ^ b\n",
    "        a = a ^ b\n",
    "        print(a, b)\n",
    "\n",
    "\n",
    "if __name__ == '__main__':\n",
    "    print(Solution().swapTwoNumbers(2, 3))"
   ]
  },
  {
   "cell_type": "markdown",
   "metadata": {
    "collapsed": true
   },
   "source": [
    "### Swap two nibbles in a byte\n",
    "A nibble is a four-bit aggregation, or half an octet. There are two nibbles in a byte.\n",
    "Given a byte, swap the two nibbles in it. For example 100 is be represented as 01100100 in a byte (or 8 bits). The two nibbles are (0110) and (0100). If we swap the two nibbles, we get 01000110 which is 70 in decimal. "
   ]
  },
  {
   "cell_type": "code",
   "execution_count": 6,
   "metadata": {},
   "outputs": [
    {
     "name": "stdout",
     "output_type": "stream",
     "text": [
      "70\n"
     ]
    }
   ],
   "source": [
    "class Solution:\n",
    "    def swapNibble(self, n):\n",
    "        return (n & (0x0F)) << 4 | (n & (0xF0)) >> 4\n",
    "\n",
    "\n",
    "if __name__ == '__main__':\n",
    "    print(Solution().swapNibble(100))"
   ]
  },
  {
   "cell_type": "markdown",
   "metadata": {},
   "source": [
    "### How to turn off a particular bit in a number?\n",
    "Difficulty Level: Rookie\n",
    "\n",
    "Given a number n and a value k, turn of the k’th bit in n.\n",
    "\n",
    "Examples:\n",
    "\n",
    "Input:  n = 15, k = 1\n",
    "Output: 14\n",
    "\n",
    "Input:  n = 15, k = 2\n",
    "Output: 13\n",
    "\n",
    "Input:  n = 15, k = 3\n",
    "Output: 11\n",
    "\n",
    "Input:  n = 15, k = 4\n",
    "Output: 7\n",
    "\n",
    "Input:  n = 15, k >= 5\n",
    "Output: 15  "
   ]
  },
  {
   "cell_type": "code",
   "execution_count": 7,
   "metadata": {},
   "outputs": [
    {
     "name": "stdout",
     "output_type": "stream",
     "text": [
      "14\n"
     ]
    }
   ],
   "source": [
    "class Solution:\n",
    "    def turnOff(self, n, k):\n",
    "        return n & (~(1 << (k - 1)))\n",
    "\n",
    "\n",
    "if __name__ == '__main__':\n",
    "    print(Solution().turnOff(15, 1))\n"
   ]
  },
  {
   "cell_type": "markdown",
   "metadata": {},
   "source": [
    "### Russian Peasant (Multiply two numbers using bitwise operators)\n",
    "Given two integers, write a function to multiply them without using multiplication operator. "
   ]
  },
  {
   "cell_type": "code",
   "execution_count": 8,
   "metadata": {},
   "outputs": [
    {
     "name": "stdout",
     "output_type": "stream",
     "text": [
      "60\n"
     ]
    }
   ],
   "source": [
    "class Solution:\n",
    "    def russianPeasant(self, a, b):\n",
    "        res = 0\n",
    "        while (b > 0):\n",
    "            if (b & 1):\n",
    "                res = res + a\n",
    "            a = a << 1\n",
    "            b = b >> 1\n",
    "        return res\n",
    "\n",
    "\n",
    "if __name__ == '__main__':\n",
    "    print(Solution().russianPeasant(10, 6))"
   ]
  },
  {
   "cell_type": "markdown",
   "metadata": {},
   "source": [
    "### Add two bit strings\n",
    "Given two bit sequences as strings, write a function to return the addition of the two sequences. Bit strings can be of different lengths also. For example, if string 1 is “1100011” and second string 2 is “10”, then the function should return “1100101”. "
   ]
  },
  {
   "cell_type": "code",
   "execution_count": 30,
   "metadata": {},
   "outputs": [
    {
     "name": "stdout",
     "output_type": "stream",
     "text": [
      "1000\n"
     ]
    }
   ],
   "source": [
    "class Solution:\n",
    "    def __init__(self, a, b):\n",
    "        self.a = a\n",
    "        self.b = b\n",
    "        if len(a) < len(b):\n",
    "            for i in range(0, len(b) - len(a)):\n",
    "                self.a = '0' + self.a\n",
    "        else:\n",
    "            for i in range(0, len(a) - len(b)):\n",
    "                self.b = '0' + self.b\n",
    "\n",
    "    def addTwoStrings(self):\n",
    "        result = 0\n",
    "        carry = 0\n",
    "        length = len(self.a)\n",
    "        for i in range(length - 1, 0, -1):\n",
    "            firstBit = int(self.a[i])\n",
    "            secondBit = int(self.b[i])\n",
    "            sum = (firstBit ^ secondBit ^ carry)\n",
    "            result = str(sum) + str(result)\n",
    "            carry = (firstBit & secondBit) | (secondBit & carry) | (firstBit & carry)\n",
    "        if carry:\n",
    "            result = '1' + result\n",
    "        return result\n",
    "\n",
    "\n",
    "if __name__ == '__main__':\n",
    "    sol = Solution('10', '110');\n",
    "    print(sol.addTwoStrings())"
   ]
  },
  {
   "cell_type": "markdown",
   "metadata": {},
   "source": [
    "### Write your own strcmp that ignores cases\n",
    "Write a modified strcmp function which ignores cases and returns -1 if s1 < s2, 0 if s1 = s2, else returns 1. For example, your strcmp should consider \"GeeksforGeeks\" and \"geeksforgeeks\" as same string.\n",
    "\n",
    "Source: Microsoft Interview Set 5 "
   ]
  },
  {
   "cell_type": "code",
   "execution_count": 31,
   "metadata": {},
   "outputs": [
    {
     "ename": "TypeError",
     "evalue": "'str' object cannot be interpreted as an integer",
     "output_type": "error",
     "traceback": [
      "\u001b[0;31m---------------------------------------------------------------------------\u001b[0m",
      "\u001b[0;31mTypeError\u001b[0m                                 Traceback (most recent call last)",
      "\u001b[0;32m<ipython-input-31-d10b6a88ca74>\u001b[0m in \u001b[0;36m<module>\u001b[0;34m()\u001b[0m\n\u001b[1;32m     15\u001b[0m \u001b[0;34m\u001b[0m\u001b[0m\n\u001b[1;32m     16\u001b[0m \u001b[0;32mif\u001b[0m \u001b[0m__name__\u001b[0m \u001b[0;34m==\u001b[0m \u001b[0;34m'__main__'\u001b[0m\u001b[0;34m:\u001b[0m\u001b[0;34m\u001b[0m\u001b[0m\n\u001b[0;32m---> 17\u001b[0;31m     \u001b[0mprint\u001b[0m\u001b[0;34m(\u001b[0m\u001b[0mSolution\u001b[0m\u001b[0;34m(\u001b[0m\u001b[0;34m)\u001b[0m\u001b[0;34m.\u001b[0m\u001b[0mic_strcmp\u001b[0m\u001b[0;34m(\u001b[0m\u001b[0;34m'GeeksforGeeks'\u001b[0m\u001b[0;34m,\u001b[0m \u001b[0;34m'geeksforgeeks'\u001b[0m\u001b[0;34m)\u001b[0m\u001b[0;34m)\u001b[0m\u001b[0;34m\u001b[0m\u001b[0m\n\u001b[0m",
      "\u001b[0;32m<ipython-input-31-d10b6a88ca74>\u001b[0m in \u001b[0;36mic_strcmp\u001b[0;34m(self, str1, str2)\u001b[0m\n\u001b[1;32m      2\u001b[0m     \u001b[0;32mdef\u001b[0m \u001b[0mic_strcmp\u001b[0m\u001b[0;34m(\u001b[0m\u001b[0mself\u001b[0m\u001b[0;34m,\u001b[0m \u001b[0mstr1\u001b[0m\u001b[0;34m,\u001b[0m \u001b[0mstr2\u001b[0m\u001b[0;34m)\u001b[0m\u001b[0;34m:\u001b[0m\u001b[0;34m\u001b[0m\u001b[0m\n\u001b[1;32m      3\u001b[0m         \u001b[0mi\u001b[0m \u001b[0;34m=\u001b[0m \u001b[0;36m0\u001b[0m\u001b[0;34m\u001b[0m\u001b[0m\n\u001b[0;32m----> 4\u001b[0;31m         \u001b[0;32mfor\u001b[0m \u001b[0mi\u001b[0m \u001b[0;32min\u001b[0m \u001b[0mrange\u001b[0m\u001b[0;34m(\u001b[0m\u001b[0;36m0\u001b[0m\u001b[0;34m,\u001b[0m \u001b[0mstr1\u001b[0m\u001b[0;34m[\u001b[0m\u001b[0mi\u001b[0m\u001b[0;34m]\u001b[0m \u001b[0;32mand\u001b[0m \u001b[0mstr2\u001b[0m\u001b[0;34m[\u001b[0m\u001b[0mi\u001b[0m\u001b[0;34m]\u001b[0m\u001b[0;34m)\u001b[0m\u001b[0;34m:\u001b[0m\u001b[0;34m\u001b[0m\u001b[0m\n\u001b[0m\u001b[1;32m      5\u001b[0m             \u001b[0;32mif\u001b[0m \u001b[0mstr1\u001b[0m\u001b[0;34m[\u001b[0m\u001b[0mi\u001b[0m\u001b[0;34m]\u001b[0m \u001b[0;34m==\u001b[0m \u001b[0mstr2\u001b[0m\u001b[0;34m[\u001b[0m\u001b[0mi\u001b[0m\u001b[0;34m]\u001b[0m \u001b[0;32mor\u001b[0m \u001b[0;34m(\u001b[0m\u001b[0mstr1\u001b[0m \u001b[0;34m^\u001b[0m \u001b[0;36m32\u001b[0m \u001b[0;34m==\u001b[0m \u001b[0mstr2\u001b[0m\u001b[0;34m)\u001b[0m\u001b[0;34m:\u001b[0m\u001b[0;34m\u001b[0m\u001b[0m\n\u001b[1;32m      6\u001b[0m                 \u001b[0;32mcontinue\u001b[0m\u001b[0;34m\u001b[0m\u001b[0m\n",
      "\u001b[0;31mTypeError\u001b[0m: 'str' object cannot be interpreted as an integer"
     ]
    }
   ],
   "source": [
    "class Solution:\n",
    "    def ic_strcmp(self, str1, str2):\n",
    "        i = 0\n",
    "        for i in range(0, str1[i] and str2[i]):\n",
    "            if str1[i] == str2[i] or (str1 ^ 32 == str2):\n",
    "                continue\n",
    "            else:\n",
    "                break\n",
    "            if (str1[i] == str2[i]):\n",
    "                return 0\n",
    "            if (str1[i] | 32) < (str2[i] | 32):\n",
    "                return -1\n",
    "            return 1\n",
    "\n",
    "\n",
    "if __name__ == '__main__':\n",
    "    print(Solution().ic_strcmp('GeeksforGeeks', 'geeksforgeeks'))\n"
   ]
  },
  {
   "cell_type": "markdown",
   "metadata": {},
   "source": [
    "### Check if two numbers are equal without using arithmetic and comparison operators\n",
    "Following are not allowed to use\n",
    "1) Arithmetic and Comparison Operators\n",
    "2) String functions"
   ]
  },
  {
   "cell_type": "code",
   "execution_count": 34,
   "metadata": {},
   "outputs": [
    {
     "name": "stdout",
     "output_type": "stream",
     "text": [
      "Same Number\n",
      "None\n"
     ]
    }
   ],
   "source": [
    "class Solution:\n",
    "    def areSameNumbers(self,a,b):\n",
    "        if a^b:\n",
    "            print('Not Same')\n",
    "        else:\n",
    "            print('Same Number')\n",
    "print(Solution().areSameNumbers(3,3))"
   ]
  },
  {
   "cell_type": "markdown",
   "metadata": {},
   "source": [
    "###  Calculate XOR from 1 to n.\n",
    "Given a number n, the task is to find the XOR from 1 to n.\n",
    "\n",
    "Examples :\n",
    "\n",
    "Input : n = 6\n",
    "Output : 7\n",
    "// 1 ^ 2 ^ 3 ^ 4 ^ 5 ^ 6  = 7\n",
    "\n",
    "Input : n = 7\n",
    "Output : 0\n",
    "// 1 ^ 2 ^ 3 ^ 4 ^ 5 ^ 6 ^ 7 = 0"
   ]
  },
  {
   "cell_type": "code",
   "execution_count": 35,
   "metadata": {},
   "outputs": [
    {
     "name": "stdout",
     "output_type": "stream",
     "text": [
      "1\n"
     ]
    }
   ],
   "source": [
    "class Solution:\n",
    "    def __init__(self, n):\n",
    "        self.n = n\n",
    "\n",
    "    def computeXOR(self):\n",
    "        switcher = {\n",
    "            0: self.n,\n",
    "            1: 1,\n",
    "            2: self.n + 1,\n",
    "            3: 0\n",
    "        }\n",
    "        return switcher.get(self.n % 3, \"Invalid\")\n",
    "\n",
    "\n",
    "if __name__ == '__main__':\n",
    "    sol = Solution(7)\n",
    "    print(sol.computeXOR())\n"
   ]
  },
  {
   "cell_type": "markdown",
   "metadata": {},
   "source": [
    "### Multiply a number with 10 without using multiplication operator"
   ]
  },
  {
   "cell_type": "code",
   "execution_count": 39,
   "metadata": {},
   "outputs": [
    {
     "name": "stdout",
     "output_type": "stream",
     "text": [
      "40\n"
     ]
    }
   ],
   "source": [
    "class Solution:\n",
    "    def multiplyBy10(self,n):\n",
    "        return (n<<3)+(n<<1)\n",
    "if __name__=='__main__':\n",
    "    print(Solution().multiplyBy10(4))"
   ]
  },
  {
   "cell_type": "code",
   "execution_count": null,
   "metadata": {
    "collapsed": true
   },
   "outputs": [],
   "source": []
  }
 ],
 "metadata": {
  "kernelspec": {
   "display_name": "Python 3",
   "language": "python",
   "name": "python3"
  },
  "language_info": {
   "codemirror_mode": {
    "name": "ipython",
    "version": 3
   },
   "file_extension": ".py",
   "mimetype": "text/x-python",
   "name": "python",
   "nbconvert_exporter": "python",
   "pygments_lexer": "ipython3",
   "version": "3.6.3"
  }
 },
 "nbformat": 4,
 "nbformat_minor": 2
}

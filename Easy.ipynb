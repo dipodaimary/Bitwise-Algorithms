{
 "cells": [
  {
   "cell_type": "markdown",
   "metadata": {},
   "source": [
    "### Find the element that appears once\n",
    "Given an array where every element occurs three times, except one element which occurs only once. Find the element that occurs once. Expected time complexity is O(n) and O(1) extra space.\n",
    "Examples:\n",
    "\n",
    "Input: arr[] = {1,2, 1, 1,2, 3, 1,2, 1, 1, 2, 3, 3}\n",
    "\n",
    "Output: 2"
   ]
  },
  {
   "cell_type": "code",
   "execution_count": 1,
   "metadata": {},
   "outputs": [
    {
     "name": "stdout",
     "output_type": "stream",
     "text": [
      "2\n",
      "35\n"
     ]
    }
   ],
   "source": [
    "class Solution:\n",
    "    def getSingle(self,arr,n):\n",
    "        ones = 0\n",
    "        twos = 0\n",
    "        for i in range(n):\n",
    "            twos = twos | (ones & arr[i])\n",
    "            ones = ones ^ arr[i]\n",
    "            common_bit_mask = ~(ones & twos)\n",
    "            ones &= common_bit_mask\n",
    "            twos &= common_bit_mask\n",
    "        return ones\n",
    "    \n",
    "if __name__=='__main__':\n",
    "    sol = Solution()\n",
    "    arr = [3,3,2,3]\n",
    "    print(sol.getSingle(arr,len(arr)))\n",
    "    arr2 = [1,2,1,1,2,3,1,2,1,1,2,3,3,33]\n",
    "    print(sol.getSingle(arr2,len(arr2)))"
   ]
  },
  {
   "cell_type": "markdown",
   "metadata": {},
   "source": [
    "### Detect if two integers have opposite signs\n",
    "Given two signed integers, write a function that returns true if the signs of given integers are different, otherwise false. For example, the function should return true -1 and +100, and should return false for -100 and -200. The function should not use any of the arithmetic operators.\n",
    "\n",
    "Let the given integers be x and y. The sign bit is 1 in negative numbers, and 0 in positive numbers. The XOR of x and y will have the sign bit as 1 iff they have opposite sign. In other words, XOR of x and y will be negative number number iff x and y have opposite signs. The following code use this logic."
   ]
  },
  {
   "cell_type": "code",
   "execution_count": 6,
   "metadata": {},
   "outputs": [
    {
     "name": "stdout",
     "output_type": "stream",
     "text": [
      "True\n"
     ]
    }
   ],
   "source": [
    "class Solution:\n",
    "    def oppositeSigns(self, x, y):\n",
    "        return ((x^y)<0)\n",
    "    \n",
    "if __name__=='__main__':\n",
    "    sol = Solution()\n",
    "    print(sol.oppositeSigns(-12,2))"
   ]
  },
  {
   "cell_type": "markdown",
   "metadata": {},
   "source": [
    "### Add 1 to a given number\n",
    "Write a program to add one to a given number. The use of operators like ‘+’, ‘-‘, ‘*’, ‘/’, ‘++’, ‘–‘ …etc are not allowed."
   ]
  },
  {
   "cell_type": "code",
   "execution_count": 14,
   "metadata": {},
   "outputs": [
    {
     "name": "stdout",
     "output_type": "stream",
     "text": [
      "4\n",
      "4\n"
     ]
    }
   ],
   "source": [
    "class Solution:\n",
    "    def addOne(self,x):\n",
    "        m = 1;\n",
    "        # Flip all the set bits\n",
    "        # until we find a 0 \n",
    "        while(x & m):\n",
    "            x = x ^ m\n",
    "            m <<= 1\n",
    "     \n",
    "        # flip the rightmost \n",
    "        # 0 bit \n",
    "        x = x ^ m\n",
    "        return x\n",
    "class Solution2:\n",
    "    def addOne(self,x):\n",
    "        return(-(~x))\n",
    "\n",
    "if __name__=='__main__':\n",
    "    sol1 = Solution();\n",
    "    sol2 = Solution2()\n",
    "    print(sol1.addOne(3))\n",
    "    print(sol2.addOne(3))"
   ]
  },
  {
   "cell_type": "markdown",
   "metadata": {},
   "source": [
    "### Multiply a given Integer with 3.5 (only for even numbers??)\n",
    "Given a integer x, write a function that multiplies x with 3.5 and returns the integer result. You are not allowed to use %, /, *. "
   ]
  },
  {
   "cell_type": "code",
   "execution_count": 22,
   "metadata": {},
   "outputs": [
    {
     "name": "stdout",
     "output_type": "stream",
     "text": [
      "14\n"
     ]
    }
   ],
   "source": [
    "class Solution:\n",
    "    def multiplyByThreePointFive(self,x):\n",
    "        return (x<<1)+ x + (x>>1)\n",
    "if __name__=='__main__':\n",
    "    sol = Solution()\n",
    "    print(sol.multiplyByThreePointFive(4))"
   ]
  },
  {
   "cell_type": "markdown",
   "metadata": {},
   "source": [
    "### Turn off the rightmost set bit\n",
    "Examples:\n",
    "\n",
    "Input:  12 (00...01100)\n",
    "Output: 8 (00...01000)\n",
    "\n",
    "Input:  7 (00...00111)\n",
    "Output: 6 (00...00110)"
   ]
  },
  {
   "cell_type": "code",
   "execution_count": 25,
   "metadata": {},
   "outputs": [
    {
     "name": "stdout",
     "output_type": "stream",
     "text": [
      "4\n"
     ]
    }
   ],
   "source": [
    "class Solution:\n",
    "    def turnOffRightMostDigit(self,x):\n",
    "        return x&(x-1)\n",
    "if __name__=='__main__':\n",
    "    sol = Solution()\n",
    "    print(sol.turnOffRightMostDigit(6))"
   ]
  },
  {
   "cell_type": "code",
   "execution_count": null,
   "metadata": {
    "collapsed": true
   },
   "outputs": [],
   "source": []
  }
 ],
 "metadata": {
  "kernelspec": {
   "display_name": "Python 3",
   "language": "python",
   "name": "python3"
  },
  "language_info": {
   "codemirror_mode": {
    "name": "ipython",
    "version": 3
   },
   "file_extension": ".py",
   "mimetype": "text/x-python",
   "name": "python",
   "nbconvert_exporter": "python",
   "pygments_lexer": "ipython3",
   "version": "3.6.3"
  }
 },
 "nbformat": 4,
 "nbformat_minor": 2
}

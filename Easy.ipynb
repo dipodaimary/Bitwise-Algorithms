{
 "cells": [
  {
   "cell_type": "markdown",
   "metadata": {},
   "source": [
    "### Find the element that appears once\n",
    "Given an array where every element occurs three times, except one element which occurs only once. Find the element that occurs once. Expected time complexity is O(n) and O(1) extra space.\n",
    "Examples:\n",
    "\n",
    "Input: arr[] = {1,2, 1, 1,2, 3, 1,2, 1, 1, 2, 3, 3}\n",
    "\n",
    "Output: 2"
   ]
  },
  {
   "cell_type": "code",
   "execution_count": 9,
   "metadata": {},
   "outputs": [
    {
     "name": "stdout",
     "output_type": "stream",
     "text": [
      "2\n",
      "35\n"
     ]
    }
   ],
   "source": [
    "class Solution:\n",
    "    def getSingle(self,arr,n):\n",
    "        ones = 0\n",
    "        twos = 0\n",
    "        for i in range(n):\n",
    "            twos = twos | (ones & arr[i])\n",
    "            ones = ones ^ arr[i]\n",
    "            common_bit_mask = ~(ones & twos)\n",
    "            ones &= common_bit_mask\n",
    "            twos &= common_bit_mask\n",
    "        return ones\n",
    "    \n",
    "if __name__=='__main__':\n",
    "    sol = Solution()\n",
    "    arr = [3,3,2,3]\n",
    "    print(sol.getSingle(arr,len(arr)))\n",
    "    arr2 = [1,2,1,1,2,3,1,2,1,1,2,3,3,33]\n",
    "    print(sol.getSingle(arr2,len(arr2)))"
   ]
  }
 ],
 "metadata": {
  "kernelspec": {
   "display_name": "Python 3",
   "language": "python",
   "name": "python3"
  },
  "language_info": {
   "codemirror_mode": {
    "name": "ipython",
    "version": 3
   },
   "file_extension": ".py",
   "mimetype": "text/x-python",
   "name": "python",
   "nbconvert_exporter": "python",
   "pygments_lexer": "ipython3",
   "version": "3.6.3"
  }
 },
 "nbformat": 4,
 "nbformat_minor": 2
}

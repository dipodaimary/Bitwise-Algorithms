{
 "cells": [
  {
   "cell_type": "markdown",
   "metadata": {},
   "source": [
    "### Count total set bits in all numbers from 1 to n\n",
    "Given a positive integer n, count the total number of set bits in binary representation of all numbers from 1 to n."
   ]
  },
  {
   "cell_type": "code",
   "execution_count": 1,
   "metadata": {},
   "outputs": [
    {
     "name": "stdout",
     "output_type": "stream",
     "text": [
      "Total set bit count is 13\n"
     ]
    }
   ],
   "source": [
    "# A simple program to count set bits\n",
    "# in all numbers from 1 to n.\n",
    " \n",
    "# Returns count of set bits present in all\n",
    "# numbers from 1 to n\n",
    "def countSetBits(n):\n",
    "     \n",
    "    # initialize the result\n",
    "    bitCount = 0\n",
    " \n",
    "    for i in range(1, n + 1):\n",
    "        bitCount += countSetBitsUtil(i)\n",
    " \n",
    "    return bitCount\n",
    " \n",
    " \n",
    "# A utility function to count set bits \n",
    "# in a number x\n",
    "def countSetBitsUtil(x):\n",
    " \n",
    "    if (x <= 0):\n",
    "        return 0\n",
    "    return (0 if int(x % 2) == 0 else 1) +  countSetBitsUtil(int(x / 2))\n",
    " \n",
    " \n",
    "# Driver program \n",
    "n = 8\n",
    "print(\"Total set bit count is\", countSetBits(n))\n",
    "     \n",
    "     \n",
    "# This code is contributed by\n",
    "# Smitha Dinesh Semwal"
   ]
  },
  {
   "cell_type": "code",
   "execution_count": null,
   "metadata": {
    "collapsed": true
   },
   "outputs": [],
   "source": []
  }
 ],
 "metadata": {
  "kernelspec": {
   "display_name": "Python 3",
   "language": "python",
   "name": "python3"
  },
  "language_info": {
   "codemirror_mode": {
    "name": "ipython",
    "version": 3
   },
   "file_extension": ".py",
   "mimetype": "text/x-python",
   "name": "python",
   "nbconvert_exporter": "python",
   "pygments_lexer": "ipython3",
   "version": "3.6.3"
  }
 },
 "nbformat": 4,
 "nbformat_minor": 2
}

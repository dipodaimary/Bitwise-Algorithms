{
 "cells": [
  {
   "cell_type": "markdown",
   "metadata": {},
   "source": [
    "### Count total set bits in all numbers from 1 to n\n",
    "Given a positive integer n, count the total number of set bits in binary representation of all numbers from 1 to n."
   ]
  },
  {
   "cell_type": "code",
   "execution_count": 1,
   "metadata": {},
   "outputs": [
    {
     "name": "stdout",
     "output_type": "stream",
     "text": [
      "Total set bit count is 13\n"
     ]
    }
   ],
   "source": [
    "# A simple program to count set bits\n",
    "# in all numbers from 1 to n.\n",
    " \n",
    "# Returns count of set bits present in all\n",
    "# numbers from 1 to n\n",
    "def countSetBits(n):\n",
    "     \n",
    "    # initialize the result\n",
    "    bitCount = 0\n",
    " \n",
    "    for i in range(1, n + 1):\n",
    "        bitCount += countSetBitsUtil(i)\n",
    " \n",
    "    return bitCount\n",
    " \n",
    " \n",
    "# A utility function to count set bits \n",
    "# in a number x\n",
    "def countSetBitsUtil(x):\n",
    " \n",
    "    if (x <= 0):\n",
    "        return 0\n",
    "    return (0 if int(x % 2) == 0 else 1) +  countSetBitsUtil(int(x / 2))\n",
    " \n",
    " \n",
    "# Driver program \n",
    "n = 8\n",
    "print(\"Total set bit count is\", countSetBits(n))\n",
    "     \n",
    "     \n",
    "# This code is contributed by\n",
    "# Smitha Dinesh Semwal"
   ]
  },
  {
   "cell_type": "markdown",
   "metadata": {
    "collapsed": true
   },
   "source": [
    "#Python program to convert floating to binary\n",
    "Python doesn’t provide any inbuilt method to easily convert floating point decimal numbers to binary number. So, Let’s do this manually.\n",
    "\n",
    "Approach :\n",
    "To convert a floating point decimal number into binary, first convert the integer part into binary form and then fractional part into binary form and finally combine both results to get the final answer.\n",
    "For Integer Part, keep dividing the number by 2 and noting down the remainder until and unless the dividend is less than 2. If so, stop and copy all the remainders together.\n",
    "For Decimal Part, keep multiplying the decimal part with 2 until and unless 0 left as fractional part. After multiplying the first time, note down integral part and again multiply decimal part of the new value by 2. Keep doing this until reached a perfect number."
   ]
  },
  {
   "cell_type": "code",
   "execution_count": null,
   "metadata": {},
   "outputs": [],
   "source": [
    "# Python program to convert float\n",
    "# decimal to binary number\n",
    " \n",
    "# Function returns octal representation\n",
    "def float_bin(number, places = 3):\n",
    " \n",
    "    # split() seperates whole number and decimal \n",
    "    # part and stores it in two seperate variables\n",
    "    whole, dec = str(number).split(\".\")\n",
    " \n",
    "    # Convert both whole number and decimal  \n",
    "    # part from string type to integer type\n",
    "    whole = int(whole)\n",
    "    dec = int (dec)\n",
    " \n",
    "    # Convert the whole number part to it's\n",
    "    # respective binary form and remove the\n",
    "    # \"0b\" from it.\n",
    "    res = bin(whole).lstrip(\"0b\") + \".\"\n",
    " \n",
    "    # Iterate the number of times, we want\n",
    "    # the number of decimal places to be\n",
    "    for x in range(places):\n",
    " \n",
    "        # Multiply the decimal value by 2 \n",
    "        # and seperate the whole number part\n",
    "        # and decimal part\n",
    "        whole, dec = str((decimal_converter(dec)) * 2).split(\".\")\n",
    " \n",
    "        # Convert the decimal part\n",
    "        # to integer again\n",
    "        dec = int(dec)\n",
    " \n",
    "        # Keep adding the integer parts \n",
    "        # receive to the result variable\n",
    "        res += whole\n",
    " \n",
    "    return res\n",
    " \n",
    "# Function converts the value passed as\n",
    "# parameter to it's decimal representation\n",
    "def decimal_converter(num): \n",
    "    while num > 1:\n",
    "        num /= 10\n",
    "    return num\n",
    " \n",
    "# Driver Code\n",
    " \n",
    "# Take the user input for \n",
    "# the floating point number\n",
    "n = input(\"Enter your floating point value : \\n\")\n",
    " \n",
    "# Take user input for the number of\n",
    "# decimal places user want result as\n",
    "p = int(input(\"Enter the number of decimal places of the result : \\n\"))\n",
    " \n",
    "print(float_bin(n, places = p))"
   ]
  },
  {
   "cell_type": "code",
   "execution_count": null,
   "metadata": {
    "collapsed": true
   },
   "outputs": [],
   "source": []
  }
 ],
 "metadata": {
  "kernelspec": {
   "display_name": "Python 3",
   "language": "python",
   "name": "python3"
  },
  "language_info": {
   "codemirror_mode": {
    "name": "ipython",
    "version": 3
   },
   "file_extension": ".py",
   "mimetype": "text/x-python",
   "name": "python",
   "nbconvert_exporter": "python",
   "pygments_lexer": "ipython3",
   "version": "3.6.3"
  }
 },
 "nbformat": 4,
 "nbformat_minor": 2
}

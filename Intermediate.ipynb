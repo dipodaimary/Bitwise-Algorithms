{
 "cells": [
  {
   "cell_type": "markdown",
   "metadata": {},
   "source": [
    "### Swap bits in a given number\n",
    "Given a number x and two positions (from right side) in binary representation of x, write a function that swaps n bits at given two positions and returns the result. It is also given that the two sets of bits do not overlap.\n",
    "Let p1 and p2 be the two given positions.\n",
    "\n",
    "Example 1\n",
    "Input:\n",
    "\n",
    "x = 47 (00101111)\n",
    "\n",
    "p1 = 1 (Start from second bit from right side)\n",
    "\n",
    "p2 = 5 (Start from 6th bit from right side)\n",
    "\n",
    "n = 3 (No of bits to be swapped)\n",
    "\n",
    "Output:\n",
    "\n",
    "227 (11100011)"
   ]
  },
  {
   "cell_type": "code",
   "execution_count": 2,
   "metadata": {},
   "outputs": [
    {
     "name": "stdout",
     "output_type": "stream",
     "text": [
      "7\n"
     ]
    }
   ],
   "source": [
    "class Solution:\n",
    "    def swapBits(self, x, p1, p2, n):\n",
    "        set1 = (x >> p1) & ((1 << n) - 1)\n",
    "        set2 = (x >> p2) & ((1 << n) - 1)\n",
    "        xor = set1 ^ set2\n",
    "        xor = (xor << p1) | (xor << p2)\n",
    "        result = x ^ xor\n",
    "        return result\n",
    "if __name__=='__main__':\n",
    "    print(Solution().swapBits(28, 0, 3, 2))"
   ]
  },
  {
   "cell_type": "markdown",
   "metadata": {},
   "source": [
    "### Add two numbers without using arithmetic operators\n",
    "Write a function Add() that returns sum of two integers. The function should not use any of the arithmetic operators (+, ++, –, -, .. etc). "
   ]
  },
  {
   "cell_type": "code",
   "execution_count": 3,
   "metadata": {},
   "outputs": [
    {
     "name": "stdout",
     "output_type": "stream",
     "text": [
      "7\n"
     ]
    }
   ],
   "source": [
    "class Solution:\n",
    "    def Add(self, x, y):\n",
    "        # Iterate till there is no carry\n",
    "        while (y != 0):\n",
    "            # carry now contains common set bits of x and y\n",
    "            carry = x & y\n",
    "\n",
    "            # Sum of bits of x and y where at least one of the bits is not set\n",
    "            x = x ^ y\n",
    "\n",
    "            # Carry is shifted by one so that adding it to x gives the required sum\n",
    "            y = carry << 1\n",
    "\n",
    "        return x\n",
    "\n",
    "\n",
    "if __name__ == '__main__':\n",
    "    print(Solution().Add(3, 4))\n"
   ]
  },
  {
   "cell_type": "markdown",
   "metadata": {},
   "source": [
    "### Write a C program to find the smallest of three integers, without using any of the comparison operators.\n",
    "\n",
    "Let 3 input numbers be x, y and z. "
   ]
  },
  {
   "cell_type": "code",
   "execution_count": 4,
   "metadata": {},
   "outputs": [
    {
     "name": "stdout",
     "output_type": "stream",
     "text": [
      "2\n"
     ]
    }
   ],
   "source": [
    "class Solution:\n",
    "    def smallestOfThree(self, x, y, z):\n",
    "        c = 0\n",
    "        while (x and y and z):\n",
    "            x = x - 1\n",
    "            y = y - 1\n",
    "            z = z - 1\n",
    "            c = c + 1\n",
    "        return c\n",
    "\n",
    "\n",
    "print(Solution().smallestOfThree(5, 2, 3))\n"
   ]
  },
  {
   "cell_type": "markdown",
   "metadata": {},
   "source": [
    "### Compute the integer absolute value (abs) without branching\n",
    "4\n",
    "We need not to do anything if a number is positive. We want to change only negative numbers. Since negative numbers are stored in 2’s complement form, to get the absolute value of a negative number we have to toggle bits of the number and add 1 to the result.\n",
    "\n",
    "For example -2 in a 8 bit system is stored as follows 1 1 1 1 1 1 1 0 where leftmost bit is the sign bit. To get the absolute value of a negative number, we have to toggle all bits and add 1 to the toggled number i.e, 0 0 0 0 0 0 0 1 + 1 will give the absolute value of 1 1 1 1 1 1 1 0. Also remember, we need to do these operations only if the number is negative (sign bit is set).\n",
    "\n",
    "Method 1\n",
    "1) Set the mask as right shift of integer by 31 (assuming integers are stored using 32 bits)."
   ]
  },
  {
   "cell_type": "code",
   "execution_count": 9,
   "metadata": {},
   "outputs": [
    {
     "name": "stdout",
     "output_type": "stream",
     "text": [
      "6\n"
     ]
    }
   ],
   "source": [
    "def getAbs(n):\n",
    "    mask = n >> 31\n",
    "    return ((n + mask) ^ mask);\n",
    " \n",
    "n = -6;\n",
    "print(getAbs(n));"
   ]
  },
  {
   "cell_type": "markdown",
   "metadata": {},
   "source": [
    "### Compute the minimum or maximum of two integers without branching\n",
    "On some rare machines where branching is expensive, the below obvious approach to find minimum can be slow as it uses branching. "
   ]
  },
  {
   "cell_type": "code",
   "execution_count": 11,
   "metadata": {},
   "outputs": [
    {
     "name": "stdout",
     "output_type": "stream",
     "text": [
      "6\n",
      "15\n"
     ]
    }
   ],
   "source": [
    "def min(x, y):\n",
    "    return y ^ ((x ^ y) & -(x < y))\n",
    " \n",
    "def max(x, y):\n",
    "    return x ^ ((x ^ y) & -(x < y)); \n",
    "\n",
    " \n",
    "\n",
    "x = 15\n",
    "y = 6\n",
    "print(min(x, y))\n",
    "print(max(x, y))\n"
   ]
  },
  {
   "cell_type": "markdown",
   "metadata": {},
   "source": [
    "### Find the two non-repeating elements in an array of repeating elements\n",
    "Asked by SG\n",
    "Given an array in which all numbers except two are repeated once. (i.e. we have 2n+2 numbers and n numbers are occurring twice and remaining two have occurred once). Find those two numbers in the most efficient way. "
   ]
  },
  {
   "cell_type": "code",
   "execution_count": 15,
   "metadata": {},
   "outputs": [],
   "source": [
    "def get2NonRepeatingNos(arr, n, x, y):\n",
    "    xor = arr[0]\n",
    "    x = 0\n",
    "    y = 0\n",
    "    for i in range(1,n):\n",
    "        xor ^= arr[i];\n",
    "    set_bit_no = xor & ~(xor-1)\n",
    "    for i in range(0,n):\n",
    "        if(arr[i] & set_bit_no):\n",
    "            x = x ^ arr[i]\n",
    "        else:\n",
    "            y = y ^ arr[i]"
   ]
  },
  {
   "cell_type": "code",
   "execution_count": null,
   "metadata": {
    "collapsed": true
   },
   "outputs": [],
   "source": []
  },
  {
   "cell_type": "code",
   "execution_count": null,
   "metadata": {
    "collapsed": true
   },
   "outputs": [],
   "source": []
  }
 ],
 "metadata": {
  "kernelspec": {
   "display_name": "Python 3",
   "language": "python",
   "name": "python3"
  },
  "language_info": {
   "codemirror_mode": {
    "name": "ipython",
    "version": 3
   },
   "file_extension": ".py",
   "mimetype": "text/x-python",
   "name": "python",
   "nbconvert_exporter": "python",
   "pygments_lexer": "ipython3",
   "version": "3.6.3"
  }
 },
 "nbformat": 4,
 "nbformat_minor": 2
}

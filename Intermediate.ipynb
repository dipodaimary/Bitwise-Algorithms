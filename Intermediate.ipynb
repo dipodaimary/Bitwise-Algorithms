{
 "cells": [
  {
   "cell_type": "markdown",
   "metadata": {},
   "source": [
    "### Swap bits in a given number\n",
    "Given a number x and two positions (from right side) in binary representation of x, write a function that swaps n bits at given two positions and returns the result. It is also given that the two sets of bits do not overlap.\n",
    "Let p1 and p2 be the two given positions.\n",
    "\n",
    "Example 1\n",
    "Input:\n",
    "\n",
    "x = 47 (00101111)\n",
    "\n",
    "p1 = 1 (Start from second bit from right side)\n",
    "\n",
    "p2 = 5 (Start from 6th bit from right side)\n",
    "\n",
    "n = 3 (No of bits to be swapped)\n",
    "\n",
    "Output:\n",
    "\n",
    "227 (11100011)"
   ]
  },
  {
   "cell_type": "code",
   "execution_count": 2,
   "metadata": {},
   "outputs": [
    {
     "name": "stdout",
     "output_type": "stream",
     "text": [
      "7\n"
     ]
    }
   ],
   "source": [
    "class Solution:\n",
    "    def swapBits(self, x, p1, p2, n):\n",
    "        set1 = (x >> p1) & ((1 << n) - 1)\n",
    "        set2 = (x >> p2) & ((1 << n) - 1)\n",
    "        xor = set1 ^ set2\n",
    "        xor = (xor << p1) | (xor << p2)\n",
    "        result = x ^ xor\n",
    "        return result\n",
    "if __name__=='__main__':\n",
    "    print(Solution().swapBits(28, 0, 3, 2))"
   ]
  },
  {
   "cell_type": "markdown",
   "metadata": {},
   "source": [
    "### Add two numbers without using arithmetic operators\n",
    "Write a function Add() that returns sum of two integers. The function should not use any of the arithmetic operators (+, ++, –, -, .. etc). "
   ]
  },
  {
   "cell_type": "code",
   "execution_count": 3,
   "metadata": {},
   "outputs": [
    {
     "name": "stdout",
     "output_type": "stream",
     "text": [
      "7\n"
     ]
    }
   ],
   "source": [
    "class Solution:\n",
    "    def Add(self, x, y):\n",
    "        # Iterate till there is no carry\n",
    "        while (y != 0):\n",
    "            # carry now contains common set bits of x and y\n",
    "            carry = x & y\n",
    "\n",
    "            # Sum of bits of x and y where at least one of the bits is not set\n",
    "            x = x ^ y\n",
    "\n",
    "            # Carry is shifted by one so that adding it to x gives the required sum\n",
    "            y = carry << 1\n",
    "\n",
    "        return x\n",
    "\n",
    "\n",
    "if __name__ == '__main__':\n",
    "    print(Solution().Add(3, 4))\n"
   ]
  },
  {
   "cell_type": "code",
   "execution_count": null,
   "metadata": {
    "collapsed": true
   },
   "outputs": [],
   "source": []
  }
 ],
 "metadata": {
  "kernelspec": {
   "display_name": "Python 3",
   "language": "python",
   "name": "python3"
  },
  "language_info": {
   "codemirror_mode": {
    "name": "ipython",
    "version": 3
   },
   "file_extension": ".py",
   "mimetype": "text/x-python",
   "name": "python",
   "nbconvert_exporter": "python",
   "pygments_lexer": "ipython3",
   "version": "3.6.3"
  }
 },
 "nbformat": 4,
 "nbformat_minor": 2
}

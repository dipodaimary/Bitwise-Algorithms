{
 "cells": [
  {
   "cell_type": "markdown",
   "metadata": {},
   "source": [
    "### Swap bits in a given number\n",
    "Given a number x and two positions (from right side) in binary representation of x, write a function that swaps n bits at given two positions and returns the result. It is also given that the two sets of bits do not overlap.\n",
    "Let p1 and p2 be the two given positions.\n",
    "\n",
    "Example 1\n",
    "Input:\n",
    "\n",
    "x = 47 (00101111)\n",
    "\n",
    "p1 = 1 (Start from second bit from right side)\n",
    "\n",
    "p2 = 5 (Start from 6th bit from right side)\n",
    "\n",
    "n = 3 (No of bits to be swapped)\n",
    "\n",
    "Output:\n",
    "\n",
    "227 (11100011)"
   ]
  },
  {
   "cell_type": "code",
   "execution_count": 2,
   "metadata": {},
   "outputs": [
    {
     "name": "stdout",
     "output_type": "stream",
     "text": [
      "7\n"
     ]
    }
   ],
   "source": [
    "class Solution:\n",
    "    def swapBits(self, x, p1, p2, n):\n",
    "        set1 = (x >> p1) & ((1 << n) - 1)\n",
    "        set2 = (x >> p2) & ((1 << n) - 1)\n",
    "        xor = set1 ^ set2\n",
    "        xor = (xor << p1) | (xor << p2)\n",
    "        result = x ^ xor\n",
    "        return result\n",
    "if __name__=='__main__':\n",
    "    print(Solution().swapBits(28, 0, 3, 2))"
   ]
  },
  {
   "cell_type": "markdown",
   "metadata": {},
   "source": [
    "### Add two numbers without using arithmetic operators\n",
    "Write a function Add() that returns sum of two integers. The function should not use any of the arithmetic operators (+, ++, –, -, .. etc). "
   ]
  },
  {
   "cell_type": "code",
   "execution_count": 3,
   "metadata": {},
   "outputs": [
    {
     "name": "stdout",
     "output_type": "stream",
     "text": [
      "7\n"
     ]
    }
   ],
   "source": [
    "class Solution:\n",
    "    def Add(self, x, y):\n",
    "        # Iterate till there is no carry\n",
    "        while (y != 0):\n",
    "            # carry now contains common set bits of x and y\n",
    "            carry = x & y\n",
    "\n",
    "            # Sum of bits of x and y where at least one of the bits is not set\n",
    "            x = x ^ y\n",
    "\n",
    "            # Carry is shifted by one so that adding it to x gives the required sum\n",
    "            y = carry << 1\n",
    "\n",
    "        return x\n",
    "\n",
    "\n",
    "if __name__ == '__main__':\n",
    "    print(Solution().Add(3, 4))\n"
   ]
  },
  {
   "cell_type": "markdown",
   "metadata": {},
   "source": [
    "### Write a C program to find the smallest of three integers, without using any of the comparison operators.\n",
    "\n",
    "Let 3 input numbers be x, y and z. "
   ]
  },
  {
   "cell_type": "code",
   "execution_count": 4,
   "metadata": {},
   "outputs": [
    {
     "name": "stdout",
     "output_type": "stream",
     "text": [
      "2\n"
     ]
    }
   ],
   "source": [
    "class Solution:\n",
    "    def smallestOfThree(self, x, y, z):\n",
    "        c = 0\n",
    "        while (x and y and z):\n",
    "            x = x - 1\n",
    "            y = y - 1\n",
    "            z = z - 1\n",
    "            c = c + 1\n",
    "        return c\n",
    "\n",
    "\n",
    "print(Solution().smallestOfThree(5, 2, 3))\n"
   ]
  },
  {
   "cell_type": "markdown",
   "metadata": {},
   "source": [
    "### Compute the integer absolute value (abs) without branching\n",
    "4\n",
    "We need not to do anything if a number is positive. We want to change only negative numbers. Since negative numbers are stored in 2’s complement form, to get the absolute value of a negative number we have to toggle bits of the number and add 1 to the result.\n",
    "\n",
    "For example -2 in a 8 bit system is stored as follows 1 1 1 1 1 1 1 0 where leftmost bit is the sign bit. To get the absolute value of a negative number, we have to toggle all bits and add 1 to the toggled number i.e, 0 0 0 0 0 0 0 1 + 1 will give the absolute value of 1 1 1 1 1 1 1 0. Also remember, we need to do these operations only if the number is negative (sign bit is set).\n",
    "\n",
    "Method 1\n",
    "1) Set the mask as right shift of integer by 31 (assuming integers are stored using 32 bits)."
   ]
  },
  {
   "cell_type": "code",
   "execution_count": 9,
   "metadata": {},
   "outputs": [
    {
     "name": "stdout",
     "output_type": "stream",
     "text": [
      "6\n"
     ]
    }
   ],
   "source": [
    "def getAbs(n):\n",
    "    mask = n >> 31\n",
    "    return ((n + mask) ^ mask);\n",
    " \n",
    "n = -6;\n",
    "print(getAbs(n));"
   ]
  },
  {
   "cell_type": "markdown",
   "metadata": {},
   "source": [
    "### Compute the minimum or maximum of two integers without branching\n",
    "On some rare machines where branching is expensive, the below obvious approach to find minimum can be slow as it uses branching. "
   ]
  },
  {
   "cell_type": "code",
   "execution_count": 11,
   "metadata": {},
   "outputs": [
    {
     "name": "stdout",
     "output_type": "stream",
     "text": [
      "6\n",
      "15\n"
     ]
    }
   ],
   "source": [
    "def min(x, y):\n",
    "    return y ^ ((x ^ y) & -(x < y))\n",
    " \n",
    "def max(x, y):\n",
    "    return x ^ ((x ^ y) & -(x < y)); \n",
    "\n",
    " \n",
    "\n",
    "x = 15\n",
    "y = 6\n",
    "print(min(x, y))\n",
    "print(max(x, y))\n"
   ]
  },
  {
   "cell_type": "markdown",
   "metadata": {},
   "source": [
    "### Find the two non-repeating elements in an array of repeating elements\n",
    "Asked by SG\n",
    "Given an array in which all numbers except two are repeated once. (i.e. we have 2n+2 numbers and n numbers are occurring twice and remaining two have occurred once). Find those two numbers in the most efficient way. "
   ]
  },
  {
   "cell_type": "code",
   "execution_count": 15,
   "metadata": {
    "collapsed": true
   },
   "outputs": [],
   "source": [
    "def get2NonRepeatingNos(arr, n, x, y):\n",
    "    xor = arr[0]\n",
    "    x = 0\n",
    "    y = 0\n",
    "    for i in range(1,n):\n",
    "        xor ^= arr[i];\n",
    "    set_bit_no = xor & ~(xor-1)\n",
    "    for i in range(0,n):\n",
    "        if(arr[i] & set_bit_no):\n",
    "            x = x ^ arr[i]\n",
    "        else:\n",
    "            y = y ^ arr[i]"
   ]
  },
  {
   "cell_type": "markdown",
   "metadata": {},
   "source": [
    "### Smallest power of 2 greater than or equal to n\n",
    "Write a function that, for a given no n, finds a number p which is greater than or equal to n and is a smallest power of 2."
   ]
  },
  {
   "cell_type": "code",
   "execution_count": 18,
   "metadata": {},
   "outputs": [
    {
     "name": "stdout",
     "output_type": "stream",
     "text": [
      "1\n"
     ]
    }
   ],
   "source": [
    "def nextPowerOf2(n):\n",
    "    count = 0;\n",
    " \n",
    "    # First n in the below condition is for the case where n is 0\n",
    "    if (n and not(n&(n-1))):\n",
    "        return n\n",
    "     \n",
    "    while( n != 0):\n",
    "        n >>= 1\n",
    "        count += 1\n",
    "    \n",
    "    return 1 << count;\n",
    " \n",
    " \n",
    "# Driver program to test above function \n",
    "n = 0\n",
    "print(nextPowerOf2(n))\n",
    " \n",
    "# This code is contributed\n",
    "# by Smitha Dinesh Semwal"
   ]
  },
  {
   "cell_type": "markdown",
   "metadata": {},
   "source": [
    "### Write an Efficient Method to Check if a Number is Multiple of 3\n",
    "The very first solution that comes to our mind is the one that we learned in school. If sum of digits in a number is multiple of 3 then number is multiple of 3 e.g., for 612 sum of digits is 9 so it’s a multiple of 3. But this solution is not efficient. You have to get all decimal digits one by one, add them and then check if sum is multiple of 3. "
   ]
  },
  {
   "cell_type": "code",
   "execution_count": 19,
   "metadata": {},
   "outputs": [
    {
     "name": "stdout",
     "output_type": "stream",
     "text": [
      "24 is multiple of 3\n"
     ]
    }
   ],
   "source": [
    "# Python profram to check if n is a multiple of 3\n",
    " \n",
    "# Function to check if n is a multiple of 3\n",
    "def isMultipleOf3(n):\n",
    " \n",
    "    odd_count = 0\n",
    "    even_count = 0\n",
    " \n",
    "    # Make no positive if +n is multiple of 3\n",
    "    # then is -n. We are doing this to avoid\n",
    "    # stack overflow in recursion\n",
    "    if(n < 0): \n",
    "        n = -n\n",
    "    if(n == 0):\n",
    "        return 1\n",
    "    if(n == 1): \n",
    "        return 0\n",
    " \n",
    "    while(n):\n",
    "         \n",
    "        # If odd bit is set then\n",
    "        # increment odd counter \n",
    "        if(n & 1): \n",
    "            odd_count += 1\n",
    "        n = n >> 1\n",
    " \n",
    "        # If even bit is set then\n",
    "        # increment even counter \n",
    "        if(n & 1):\n",
    "            even_count += 1\n",
    "        n = n >> 1\n",
    " \n",
    "    return isMultipleOf3(abs(odd_count - even_count))\n",
    " \n",
    "# Program to test function isMultipleOf3 \n",
    "num = 24\n",
    "if (isMultipleOf3(num)): \n",
    "    print(num, 'is multiple of 3')\n",
    "else:\n",
    "    print(num, 'is not a multiple of 3')\n",
    " \n",
    "# This code is contributed by Danish Raza"
   ]
  },
  {
   "cell_type": "markdown",
   "metadata": {},
   "source": [
    "### Swap all odd and even bits\n",
    "Given an unsigned integer, swap all odd bits with even bits. For example, if the given number is 23 (00010111), it should be converted to 43 (00101011). Every even position bit is swapped with adjacent bit on right side (even position bits are highlighted in binary representation of 23), and every odd position bit is swapped with adjacent on left side. "
   ]
  },
  {
   "cell_type": "code",
   "execution_count": 20,
   "metadata": {},
   "outputs": [
    {
     "name": "stdout",
     "output_type": "stream",
     "text": [
      "43\n"
     ]
    }
   ],
   "source": [
    "# Python 3 program to swap even \n",
    "# and odd bits of a given number\n",
    " \n",
    "# Function for swapping even \n",
    "# and odd bits\n",
    "def swapBits(x) :\n",
    "     \n",
    "    # Get all even bits of x\n",
    "    even_bits = x & 0xAAAAAAAA\n",
    " \n",
    "    # Get all odd bits of x\n",
    "    odd_bits = x & 0x55555555\n",
    "     \n",
    "    # Right shift even bits\n",
    "    even_bits >>= 1\n",
    "     \n",
    "    # Left shift odd bits\n",
    "    odd_bits <<= 1\n",
    " \n",
    "    # Combine even and odd bits\n",
    "    return (even_bits | odd_bits) \n",
    " \n",
    " \n",
    "# Driver program\n",
    "# 00010111\n",
    "x = 23\n",
    " \n",
    "# Output is 43 (00101011)\n",
    "print(swapBits(x))"
   ]
  },
  {
   "cell_type": "markdown",
   "metadata": {},
   "source": [
    "### Check if a number is multiple of 9 using bitwise operators\n",
    "Given a number n, write a function that returns true if n is divisible by 9, else false. The most simple way to check for n’s divisibility by 9 is to do n%9. \n",
    "Another method is to sum the digits of n. If sum of digits is multiple of 9, then n is multiple of 9.\n",
    "The above methods are not bitwise operators based methods and require use of % and /."
   ]
  },
  {
   "cell_type": "code",
   "execution_count": 24,
   "metadata": {},
   "outputs": [
    {
     "name": "stdout",
     "output_type": "stream",
     "text": [
      "0\n",
      "9\n",
      "18\n",
      "27\n",
      "36\n",
      "45\n",
      "54\n",
      "63\n",
      "72\n",
      "81\n",
      "90\n",
      "99\n"
     ]
    }
   ],
   "source": [
    "def isDivBy9(n):\n",
    "    if (n == 0 or n == 9):\n",
    "        return True;\n",
    "    if (n < 9):\n",
    "        return False;\n",
    "    \n",
    "    return isDivBy9((n>>3) - (n&7));\n",
    " \n",
    "for i in range(0,100):\n",
    "    if (isDivBy9(i)):\n",
    "        print(i)"
   ]
  },
  {
   "cell_type": "markdown",
   "metadata": {},
   "source": [
    "### Check if binary representation of a number is palindrome\n",
    "Given an integer ‘x’, write a C function that returns true if binary representation of x is palindrome else return false.\n",
    "\n",
    "For example a numbers with binary representation as 10..01 is palindrome and number with binary representation as 10..00 is not palindrome.\n",
    "\n",
    "The idea is similar to checking a string is palindrome or not. We start from leftmost and rightmost bits and compare bits one by one. If we find a mismatch, then return false."
   ]
  },
  {
   "cell_type": "code",
   "execution_count": 31,
   "metadata": {},
   "outputs": [
    {
     "ename": "KeyboardInterrupt",
     "evalue": "",
     "output_type": "error",
     "traceback": [
      "\u001b[0;31m---------------------------------------------------------------------------\u001b[0m",
      "\u001b[0;31mKeyboardInterrupt\u001b[0m                         Traceback (most recent call last)",
      "\u001b[0;32m<ipython-input-31-5d0b1a16cc78>\u001b[0m in \u001b[0;36m<module>\u001b[0;34m()\u001b[0m\n\u001b[1;32m     16\u001b[0m     \u001b[0;32mreturn\u001b[0m \u001b[0;32mTrue\u001b[0m\u001b[0;34m;\u001b[0m\u001b[0;34m\u001b[0m\u001b[0m\n\u001b[1;32m     17\u001b[0m \u001b[0mx\u001b[0m \u001b[0;34m=\u001b[0m \u001b[0;36m1\u001b[0m\u001b[0;34m<<\u001b[0m\u001b[0;36m15\u001b[0m \u001b[0;34m+\u001b[0m \u001b[0;36m1\u001b[0m\u001b[0;34m<<\u001b[0m\u001b[0;36m16\u001b[0m\u001b[0;34m;\u001b[0m\u001b[0;34m\u001b[0m\u001b[0m\n\u001b[0;32m---> 18\u001b[0;31m \u001b[0misPalindrome\u001b[0m\u001b[0;34m(\u001b[0m\u001b[0mx\u001b[0m\u001b[0;34m)\u001b[0m\u001b[0;34m\u001b[0m\u001b[0m\n\u001b[0m",
      "\u001b[0;32m<ipython-input-31-5d0b1a16cc78>\u001b[0m in \u001b[0;36misPalindrome\u001b[0;34m(x)\u001b[0m\n\u001b[1;32m     10\u001b[0m \u001b[0;34m\u001b[0m\u001b[0m\n\u001b[1;32m     11\u001b[0m     \u001b[0;32mwhile\u001b[0m \u001b[0;34m(\u001b[0m\u001b[0ml\u001b[0m \u001b[0;34m<\u001b[0m \u001b[0mr\u001b[0m\u001b[0;34m)\u001b[0m\u001b[0;34m:\u001b[0m\u001b[0;34m\u001b[0m\u001b[0m\n\u001b[0;32m---> 12\u001b[0;31m         \u001b[0;32mif\u001b[0m \u001b[0;34m(\u001b[0m\u001b[0misKthBitSet\u001b[0m\u001b[0;34m(\u001b[0m\u001b[0mx\u001b[0m\u001b[0;34m,\u001b[0m \u001b[0ml\u001b[0m\u001b[0;34m)\u001b[0m \u001b[0;34m!=\u001b[0m \u001b[0misKthBitSet\u001b[0m\u001b[0;34m(\u001b[0m\u001b[0mx\u001b[0m\u001b[0;34m,\u001b[0m \u001b[0mr\u001b[0m\u001b[0;34m)\u001b[0m\u001b[0;34m)\u001b[0m\u001b[0;34m:\u001b[0m\u001b[0;34m\u001b[0m\u001b[0m\n\u001b[0m\u001b[1;32m     13\u001b[0m             \u001b[0;32mreturn\u001b[0m \u001b[0;32mFalse\u001b[0m\u001b[0;34m;\u001b[0m\u001b[0;34m\u001b[0m\u001b[0m\n\u001b[1;32m     14\u001b[0m             \u001b[0ml\u001b[0m\u001b[0;34m+=\u001b[0m\u001b[0;36m1\u001b[0m\u001b[0;34m;\u001b[0m\u001b[0;34m\u001b[0m\u001b[0m\n",
      "\u001b[0;32m<ipython-input-31-5d0b1a16cc78>\u001b[0m in \u001b[0;36misKthBitSet\u001b[0;34m(x, k)\u001b[0m\n\u001b[0;32m----> 1\u001b[0;31m \u001b[0;32mdef\u001b[0m \u001b[0misKthBitSet\u001b[0m\u001b[0;34m(\u001b[0m\u001b[0mx\u001b[0m\u001b[0;34m,\u001b[0m\u001b[0mk\u001b[0m\u001b[0;34m)\u001b[0m\u001b[0;34m:\u001b[0m\u001b[0;34m\u001b[0m\u001b[0m\n\u001b[0m\u001b[1;32m      2\u001b[0m     \u001b[0;32mif\u001b[0m \u001b[0;34m(\u001b[0m\u001b[0mx\u001b[0m \u001b[0;34m&\u001b[0m \u001b[0;34m(\u001b[0m\u001b[0;36m1\u001b[0m \u001b[0;34m<<\u001b[0m \u001b[0;34m(\u001b[0m\u001b[0mk\u001b[0m\u001b[0;34m-\u001b[0m\u001b[0;36m1\u001b[0m\u001b[0;34m)\u001b[0m\u001b[0;34m)\u001b[0m\u001b[0;34m)\u001b[0m\u001b[0;34m:\u001b[0m\u001b[0;34m\u001b[0m\u001b[0m\n\u001b[1;32m      3\u001b[0m         \u001b[0;32mreturn\u001b[0m \u001b[0;32mTrue\u001b[0m\u001b[0;34m\u001b[0m\u001b[0m\n\u001b[1;32m      4\u001b[0m     \u001b[0;32melse\u001b[0m\u001b[0;34m:\u001b[0m\u001b[0;34m\u001b[0m\u001b[0m\n\u001b[1;32m      5\u001b[0m         \u001b[0;32mreturn\u001b[0m \u001b[0;32mFalse\u001b[0m\u001b[0;34m;\u001b[0m\u001b[0;34m\u001b[0m\u001b[0m\n",
      "\u001b[0;31mKeyboardInterrupt\u001b[0m: "
     ]
    }
   ],
   "source": [
    "def isKthBitSet(x,k):\n",
    "    if (x & (1 << (k-1))):\n",
    "        return True\n",
    "    else: \n",
    "        return False;\n",
    " \n",
    "def isPalindrome(x):\n",
    "    l = 1\n",
    "    r = 32;\n",
    "\n",
    "    while (l < r):\n",
    "        if (isKthBitSet(x, l) != isKthBitSet(x, r)):\n",
    "            return False;\n",
    "            l+=1;     \n",
    "            r-=1;\n",
    "    return True;\n",
    "x = 1<<15 + 1<<16;\n",
    "isPalindrome(x)"
   ]
  },
  {
   "cell_type": "markdown",
   "metadata": {
    "collapsed": true
   },
   "source": [
    "### Given a positive integer n. The problem is to check if the number is Fibbinary Number or not. Fibbinary numbers are integers whose binary representation contains no consecutive ones.\n",
    "\n",
    "Examples:\n",
    "\n",
    "Input : 10\n",
    "Output : Yes\n",
    "Explanation: 1010 is the binary representation \n",
    "             of 10 which does not contains any \n",
    "             consecutive 1's.\n",
    "\n",
    "Input : 11\n",
    "Output : No\n",
    "Explanation: 1011 is the binary representation \n",
    "             of 11, which contains consecutive \n",
    "             1's."
   ]
  },
  {
   "cell_type": "code",
   "execution_count": 1,
   "metadata": {},
   "outputs": [
    {
     "name": "stdout",
     "output_type": "stream",
     "text": [
      "Yes\n"
     ]
    }
   ],
   "source": [
    "# Python3 program to check if a number \n",
    "# is fibinnary number or not \n",
    "\n",
    "# function to check whether a number\n",
    "# is fibbinary or not\n",
    "def isFibbinaryNum( n):\n",
    "    \n",
    "    # if the number does not contain adjacent\n",
    "    # ones then (n & (n >> 1)) operation \n",
    "    # results to 0\n",
    "    if ((n & (n >> 1)) == 0):\n",
    "        return 1\n",
    "        \n",
    "    # Not a fibbinary number\n",
    "    return 0\n",
    "\n",
    "# Driver code\n",
    "n = 10\n",
    "\n",
    "if (isFibbinaryNum(n)):\n",
    "    print(\"Yes\")\n",
    "else:\n",
    "    print(\"No\")"
   ]
  },
  {
   "cell_type": "markdown",
   "metadata": {},
   "source": [
    "### Find the maximum subarray XOR in a given array\n",
    "Given an array of integers. find the maximum XOR subarray value in given array. Expected time complexity O(n).\n",
    "\n",
    "Examples:\n",
    "\n",
    "Input: arr[] = {1, 2, 3, 4}\n",
    "Output: 7\n",
    "The subarray {3, 4} has maximum XOR value\n",
    "\n",
    "Input: arr[] = {8, 1, 2, 12, 7, 6}\n",
    "Output: 15\n",
    "The subarray {1, 2, 12} has maximum XOR value\n",
    "\n",
    "Input: arr[] = {4, 6}\n",
    "Output: 6\n",
    "The subarray {6} has maximum XOR value"
   ]
  },
  {
   "cell_type": "code",
   "execution_count": 2,
   "metadata": {},
   "outputs": [
    {
     "name": "stdout",
     "output_type": "stream",
     "text": [
      "Max subarray XOR is  15\n"
     ]
    }
   ],
   "source": [
    "# A simple Python program\n",
    "# to find max subarray XOR\n",
    " \n",
    "def maxSubarrayXOR(arr,n):\n",
    " \n",
    "    ans = -2147483648     #Initialize result\n",
    "  \n",
    "    # Pick starting points of subarrays\n",
    "    for i in range(n):\n",
    "         \n",
    "        # to store xor of current subarray\n",
    "        curr_xor = 0\n",
    "  \n",
    "        # Pick ending points of\n",
    "        # subarrays starting with i\n",
    "        for j in range(i,n):\n",
    "         \n",
    "            curr_xor = curr_xor ^ arr[j]\n",
    "            ans = max(ans, curr_xor)\n",
    "         \n",
    "     \n",
    "    return ans\n",
    " \n",
    " \n",
    "# Driver code\n",
    " \n",
    "arr = [8, 1, 2, 12]\n",
    "n = len(arr)\n",
    " \n",
    "print(\"Max subarray XOR is \",\n",
    "     maxSubarrayXOR(arr, n))"
   ]
  },
  {
   "cell_type": "markdown",
   "metadata": {
    "collapsed": true
   },
   "source": [
    "### Count strings with consecutive 1’s\n",
    "Given a number n, count number of n length strings with consecutive 1’s in them.\n",
    "\n",
    "Examples:\n",
    "\n",
    "Input  : n = 2\n",
    "Output : 1\n",
    "There are 4 strings of length 2, the\n",
    "strings are 00, 01, 10 and 11. Only the \n",
    "string 11 has consecutive 1's.\n",
    "\n",
    "Input  : n = 3\n",
    "Output : 3\n",
    "There are 8 strings of length 3, the\n",
    "strings are 000, 001, 010, 011, 100, \n",
    "101, 110 and 111.  The strings with\n",
    "consecutive 1's are 011, 110 and 111.\n",
    "\n",
    "Input : n = 5\n",
    "Output : 19 "
   ]
  },
  {
   "cell_type": "code",
   "execution_count": 2,
   "metadata": {},
   "outputs": [
    {
     "name": "stdout",
     "output_type": "stream",
     "text": [
      "19\n"
     ]
    }
   ],
   "source": [
    "# Python 3 program to count all \n",
    "# distinct binary strings with \n",
    "# two consecutive 1's\n",
    " \n",
    " \n",
    "# Returns count of n length\n",
    "# binary strings with \n",
    "# consecutive 1's\n",
    "def countStrings(n) :\n",
    "     \n",
    "    # Count binary strings without \n",
    "    # consecutive 1's.\n",
    "    # See the approach discussed on be\n",
    "    # ( http://goo.gl/p8A3sW )\n",
    "    a = [0] * n\n",
    "    b = [0] * n\n",
    "    a[0] = b[0] = 1\n",
    "    for i in range(1, n) :\n",
    "        a[i] = a[i - 1] + b[i - 1]\n",
    "        b[i] = a[i - 1]\n",
    "     \n",
    "     \n",
    "    # Subtract a[n-1]+b[n-1] from 2^n\n",
    "    return (1 << n) - a[n - 1] - b[n - 1]\n",
    "     \n",
    "# Driver program \n",
    "print(countStrings(5))"
   ]
  },
  {
   "cell_type": "markdown",
   "metadata": {
    "collapsed": true
   },
   "source": [
    "### Set bits in N equals to M in the given range.\n",
    "You are given two 32-bit numbers, N and M, and two bit positions, i and j. Write a method to set all bits between i and j in N equal to M (e.g., M becomes a substring of N located at i and starting at j).\n",
    "\n",
    "Examples:\n",
    "\n",
    "Input : N = 1, M = 2, i = 2, j = 4\n",
    "Output: 9\n",
    "N = 00000001(Considering 8 bits only)\n",
    "M = 10 (Binary of 2) For more indexes,\n",
    "leading zeroes will be considered.\n",
    "Now set 3 bits from ith index to j in \n",
    "the N as in the M.\n",
    "Bits:-    0 0 0 (0  1  0) 0 1 = 9\n",
    "Indexes:- 7 6 5  4  3  2  1 0\n",
    "From index 2 to 4, bits are set according \n",
    "to the M."
   ]
  },
  {
   "cell_type": "code",
   "execution_count": 1,
   "metadata": {
    "collapsed": true
   },
   "outputs": [],
   "source": [
    "# Python program for above implementation\n",
    " \n",
    "# Function to set the bits\n",
    "def setBits(n, m, i, j):\n",
    " \n",
    "    # number with all 1's\n",
    "    allOnes = not 0\n",
    "  \n",
    "    # Set all the bits in the left of j\n",
    "    left = allOnes << (j + 1)\n",
    "  \n",
    "    # Set all the bits in the right of j\n",
    "    right = ((1 << i) - 1)\n",
    "  \n",
    "    # Do Bitwsie OR to get all the bits \n",
    "    # set except in the range from i to j\n",
    "    mask = left | right\n",
    "  \n",
    "    # clear bits j through i\n",
    "    masked_n = n & mask\n",
    "  \n",
    "    # move m into the correct position\n",
    "    m_shifted = m << i\n",
    "  \n",
    "    # return the Bitwise OR of masked_n \n",
    "    # and shifted_m\n",
    "    return (masked_n | m_shifted)\n",
    "  \n",
    "# Drivers program\n",
    "n, m = 2, 4\n",
    "i, j = 2, 4"
   ]
  },
  {
   "cell_type": "markdown",
   "metadata": {
    "collapsed": true
   },
   "source": [
    "###  Find nth Magic Number\n",
    "A magic number is defined as a number which can be expressed as a power of 5 or sum of unique powers of 5. First few magic numbers are 5, 25, 30(5 + 25), 125, 130(125 + 5), ….\n",
    "\n",
    "Write a function to find the nth Magic number.\n",
    "\n",
    "Example:\n",
    "\n",
    "Input: n = 2\n",
    "Output: 25\n",
    "\n",
    "Input: n = 5\n",
    "Output: 130 "
   ]
  },
  {
   "cell_type": "code",
   "execution_count": 1,
   "metadata": {},
   "outputs": [
    {
     "name": "stdout",
     "output_type": "stream",
     "text": [
      "nth magic number is 130\n"
     ]
    }
   ],
   "source": [
    "# Python program to find nth magic numebr\n",
    " \n",
    "# Function to find nth magic numebr\n",
    "def nthMagicNo(n):\n",
    " \n",
    "    pow = 1\n",
    "    answer = 0\n",
    " \n",
    "    # Go through every bit of n\n",
    "    while (n):\n",
    " \n",
    "        pow = pow*5\n",
    " \n",
    "        # If last bit of n is set\n",
    "        if (n & 1):\n",
    "            answer += pow\n",
    " \n",
    "        # proceed to next bit\n",
    "        n >>= 1 # or n = n/2\n",
    "     \n",
    "    return answer\n",
    " \n",
    " \n",
    "# Driver program to test above function\n",
    "n = 5\n",
    "print(\"nth magic number is\", nthMagicNo(n))"
   ]
  },
  {
   "cell_type": "markdown",
   "metadata": {
    "collapsed": true
   },
   "source": [
    "# Check if a given number is sparse or not\n",
    "A number is said to be a sparse number if in binary representation of the number no two or more consecutive bits are set. Write a function to check if a given number is Sparse or not.\n",
    "\n",
    "Example :\n",
    "\n",
    "Input:  x  = 72\n",
    "Output: true\n",
    "Explanation:  Binary representation of 72 is 01001000. \n",
    "There are no two consecutive 1's in binary representation\n",
    "\n",
    "Input:  x  = 12\n",
    "Output: false\n",
    "Explanation:  Binary representation of 12 is 1100. \n",
    "Third and fourth bits (from end) are set."
   ]
  },
  {
   "cell_type": "code",
   "execution_count": 1,
   "metadata": {},
   "outputs": [
    {
     "name": "stdout",
     "output_type": "stream",
     "text": [
      "1\n",
      "0\n",
      "1\n",
      "0\n"
     ]
    }
   ],
   "source": [
    "# Python program to check\n",
    "# if n is sparse or not\n",
    " \n",
    "# Return true if n is\n",
    "# sparse, else false\n",
    "def checkSparse(n):\n",
    " \n",
    "    # n is not sparse if there is set\n",
    "    # in AND of n and n/2\n",
    "    if (n & (n>>1)):\n",
    "        return 0\n",
    "  \n",
    "    return 1\n",
    "     \n",
    "# Driver code\n",
    "print(checkSparse(72))\n",
    "print(checkSparse(12))\n",
    "print(checkSparse(2))\n",
    "print(checkSparse(30))"
   ]
  },
  {
   "cell_type": "markdown",
   "metadata": {
    "collapsed": true
   },
   "source": [
    "# Calculate square of a number without using *, / and pow() Given an integer n, calculate square of a number without using *, / and pow()"
   ]
  },
  {
   "cell_type": "code",
   "execution_count": 1,
   "metadata": {},
   "outputs": [
    {
     "name": "stdout",
     "output_type": "stream",
     "text": [
      "n = 1, n^2 = 1\n",
      "n = 2, n^2 = 4\n",
      "n = 3, n^2 = 9\n",
      "n = 4, n^2 = 16\n",
      "n = 5, n^2 = 25\n"
     ]
    }
   ],
   "source": [
    "# Simple solution to\n",
    "# calculate square without\n",
    "# using * and pow()\n",
    " \n",
    "def square(n):\n",
    " \n",
    "    # handle negative input\n",
    "    if (n < 0):\n",
    "        n = -n\n",
    "     \n",
    "    # Initialize result\n",
    "    res = n\n",
    "     \n",
    "    # Add n to res n-1 times\n",
    "    for i in range(1, n):\n",
    "        res += n\n",
    "     \n",
    "    return res\n",
    " \n",
    " \n",
    "# Driver Code\n",
    "for n in range(1, 6):\n",
    "    print(\"n =\", n , end=\", \")\n",
    "    print(\"n^2 =\", square(n))"
   ]
  },
  {
   "cell_type": "markdown",
   "metadata": {
    "collapsed": true
   },
   "source": [
    "# Swap bits in a given number\n",
    "Given a number x and two positions (from right side) in binary representation of x, write a function that swaps n bits at given two positions and returns the result. It is also given that the two sets of bits do not overlap."
   ]
  },
  {
   "cell_type": "code",
   "execution_count": 1,
   "metadata": {},
   "outputs": [
    {
     "name": "stdout",
     "output_type": "stream",
     "text": [
      "Result = 7\n"
     ]
    }
   ],
   "source": [
    "# Python program to\n",
    "# swap bits in a given number\n",
    " \n",
    "def swapBits(x,p1,p2,n):\n",
    " \n",
    "    # Move all bits of first\n",
    "    # set to rightmost side \n",
    "    set1 =  (x >> p1) & ((1<< n) - 1)\n",
    "  \n",
    "    # Moce all bits of second\n",
    "    # set to rightmost side \n",
    "    set2 =  (x >> p2) & ((1 << n) - 1)\n",
    "  \n",
    "    # XOR the two sets \n",
    "    xor = (set1 ^ set2)\n",
    "  \n",
    "    # Put the xor bits back\n",
    "    # to their original positions \n",
    "    xor = (xor << p1) | (xor << p2)\n",
    "  \n",
    "      # XOR the 'xor' with the\n",
    "      # original number so that the \n",
    "      # two sets are swapped\n",
    "    result = x ^ xor\n",
    "  \n",
    "    return result\n",
    "     \n",
    "# Driver code\n",
    " \n",
    "res =swapBits(28, 0, 3, 2)\n",
    "print(\"Result =\",res)"
   ]
  }
 ],
 "metadata": {
  "kernelspec": {
   "display_name": "Python 3",
   "language": "python",
   "name": "python3"
  },
  "language_info": {
   "codemirror_mode": {
    "name": "ipython",
    "version": 3
   },
   "file_extension": ".py",
   "mimetype": "text/x-python",
   "name": "python",
   "nbconvert_exporter": "python",
   "pygments_lexer": "ipython3",
   "version": "3.6.3"
  }
 },
 "nbformat": 4,
 "nbformat_minor": 2
}

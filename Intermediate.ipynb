{
 "cells": [
  {
   "cell_type": "markdown",
   "metadata": {},
   "source": [
    "### Swap bits in a given number\n",
    "Given a number x and two positions (from right side) in binary representation of x, write a function that swaps n bits at given two positions and returns the result. It is also given that the two sets of bits do not overlap.\n",
    "Let p1 and p2 be the two given positions.\n",
    "\n",
    "Example 1\n",
    "Input:\n",
    "\n",
    "x = 47 (00101111)\n",
    "\n",
    "p1 = 1 (Start from second bit from right side)\n",
    "\n",
    "p2 = 5 (Start from 6th bit from right side)\n",
    "\n",
    "n = 3 (No of bits to be swapped)\n",
    "\n",
    "Output:\n",
    "\n",
    "227 (11100011)"
   ]
  },
  {
   "cell_type": "code",
   "execution_count": 2,
   "metadata": {},
   "outputs": [
    {
     "name": "stdout",
     "output_type": "stream",
     "text": [
      "7\n"
     ]
    }
   ],
   "source": [
    "class Solution:\n",
    "    def swapBits(self, x, p1, p2, n):\n",
    "        set1 = (x >> p1) & ((1 << n) - 1)\n",
    "        set2 = (x >> p2) & ((1 << n) - 1)\n",
    "        xor = set1 ^ set2\n",
    "        xor = (xor << p1) | (xor << p2)\n",
    "        result = x ^ xor\n",
    "        return result\n",
    "if __name__=='__main__':\n",
    "    print(Solution().swapBits(28, 0, 3, 2))"
   ]
  },
  {
   "cell_type": "markdown",
   "metadata": {},
   "source": [
    "### Add two numbers without using arithmetic operators\n",
    "Write a function Add() that returns sum of two integers. The function should not use any of the arithmetic operators (+, ++, –, -, .. etc). "
   ]
  },
  {
   "cell_type": "code",
   "execution_count": 3,
   "metadata": {},
   "outputs": [
    {
     "name": "stdout",
     "output_type": "stream",
     "text": [
      "7\n"
     ]
    }
   ],
   "source": [
    "class Solution:\n",
    "    def Add(self, x, y):\n",
    "        # Iterate till there is no carry\n",
    "        while (y != 0):\n",
    "            # carry now contains common set bits of x and y\n",
    "            carry = x & y\n",
    "\n",
    "            # Sum of bits of x and y where at least one of the bits is not set\n",
    "            x = x ^ y\n",
    "\n",
    "            # Carry is shifted by one so that adding it to x gives the required sum\n",
    "            y = carry << 1\n",
    "\n",
    "        return x\n",
    "\n",
    "\n",
    "if __name__ == '__main__':\n",
    "    print(Solution().Add(3, 4))\n"
   ]
  },
  {
   "cell_type": "markdown",
   "metadata": {},
   "source": [
    "### Write a C program to find the smallest of three integers, without using any of the comparison operators.\n",
    "\n",
    "Let 3 input numbers be x, y and z. "
   ]
  },
  {
   "cell_type": "code",
   "execution_count": 4,
   "metadata": {},
   "outputs": [
    {
     "name": "stdout",
     "output_type": "stream",
     "text": [
      "2\n"
     ]
    }
   ],
   "source": [
    "class Solution:\n",
    "    def smallestOfThree(self, x, y, z):\n",
    "        c = 0\n",
    "        while (x and y and z):\n",
    "            x = x - 1\n",
    "            y = y - 1\n",
    "            z = z - 1\n",
    "            c = c + 1\n",
    "        return c\n",
    "\n",
    "\n",
    "print(Solution().smallestOfThree(5, 2, 3))\n"
   ]
  },
  {
   "cell_type": "markdown",
   "metadata": {},
   "source": [
    "### Compute the integer absolute value (abs) without branching\n",
    "4\n",
    "We need not to do anything if a number is positive. We want to change only negative numbers. Since negative numbers are stored in 2’s complement form, to get the absolute value of a negative number we have to toggle bits of the number and add 1 to the result.\n",
    "\n",
    "For example -2 in a 8 bit system is stored as follows 1 1 1 1 1 1 1 0 where leftmost bit is the sign bit. To get the absolute value of a negative number, we have to toggle all bits and add 1 to the toggled number i.e, 0 0 0 0 0 0 0 1 + 1 will give the absolute value of 1 1 1 1 1 1 1 0. Also remember, we need to do these operations only if the number is negative (sign bit is set).\n",
    "\n",
    "Method 1\n",
    "1) Set the mask as right shift of integer by 31 (assuming integers are stored using 32 bits)."
   ]
  },
  {
   "cell_type": "code",
   "execution_count": 9,
   "metadata": {},
   "outputs": [
    {
     "name": "stdout",
     "output_type": "stream",
     "text": [
      "6\n"
     ]
    }
   ],
   "source": [
    "def getAbs(n):\n",
    "    mask = n >> 31\n",
    "    return ((n + mask) ^ mask);\n",
    " \n",
    "n = -6;\n",
    "print(getAbs(n));"
   ]
  },
  {
   "cell_type": "markdown",
   "metadata": {},
   "source": [
    "### Compute the minimum or maximum of two integers without branching\n",
    "On some rare machines where branching is expensive, the below obvious approach to find minimum can be slow as it uses branching. "
   ]
  },
  {
   "cell_type": "code",
   "execution_count": 11,
   "metadata": {},
   "outputs": [
    {
     "name": "stdout",
     "output_type": "stream",
     "text": [
      "6\n",
      "15\n"
     ]
    }
   ],
   "source": [
    "def min(x, y):\n",
    "    return y ^ ((x ^ y) & -(x < y))\n",
    " \n",
    "def max(x, y):\n",
    "    return x ^ ((x ^ y) & -(x < y)); \n",
    "\n",
    " \n",
    "\n",
    "x = 15\n",
    "y = 6\n",
    "print(min(x, y))\n",
    "print(max(x, y))\n"
   ]
  },
  {
   "cell_type": "markdown",
   "metadata": {},
   "source": [
    "### Find the two non-repeating elements in an array of repeating elements\n",
    "Asked by SG\n",
    "Given an array in which all numbers except two are repeated once. (i.e. we have 2n+2 numbers and n numbers are occurring twice and remaining two have occurred once). Find those two numbers in the most efficient way. "
   ]
  },
  {
   "cell_type": "code",
   "execution_count": 15,
   "metadata": {
    "collapsed": true
   },
   "outputs": [],
   "source": [
    "def get2NonRepeatingNos(arr, n, x, y):\n",
    "    xor = arr[0]\n",
    "    x = 0\n",
    "    y = 0\n",
    "    for i in range(1,n):\n",
    "        xor ^= arr[i];\n",
    "    set_bit_no = xor & ~(xor-1)\n",
    "    for i in range(0,n):\n",
    "        if(arr[i] & set_bit_no):\n",
    "            x = x ^ arr[i]\n",
    "        else:\n",
    "            y = y ^ arr[i]"
   ]
  },
  {
   "cell_type": "markdown",
   "metadata": {},
   "source": [
    "### Smallest power of 2 greater than or equal to n\n",
    "Write a function that, for a given no n, finds a number p which is greater than or equal to n and is a smallest power of 2."
   ]
  },
  {
   "cell_type": "code",
   "execution_count": 18,
   "metadata": {},
   "outputs": [
    {
     "name": "stdout",
     "output_type": "stream",
     "text": [
      "1\n"
     ]
    }
   ],
   "source": [
    "def nextPowerOf2(n):\n",
    "    count = 0;\n",
    " \n",
    "    # First n in the below condition is for the case where n is 0\n",
    "    if (n and not(n&(n-1))):\n",
    "        return n\n",
    "     \n",
    "    while( n != 0):\n",
    "        n >>= 1\n",
    "        count += 1\n",
    "    \n",
    "    return 1 << count;\n",
    " \n",
    " \n",
    "# Driver program to test above function \n",
    "n = 0\n",
    "print(nextPowerOf2(n))\n",
    " \n",
    "# This code is contributed\n",
    "# by Smitha Dinesh Semwal"
   ]
  },
  {
   "cell_type": "markdown",
   "metadata": {},
   "source": [
    "### Write an Efficient Method to Check if a Number is Multiple of 3\n",
    "The very first solution that comes to our mind is the one that we learned in school. If sum of digits in a number is multiple of 3 then number is multiple of 3 e.g., for 612 sum of digits is 9 so it’s a multiple of 3. But this solution is not efficient. You have to get all decimal digits one by one, add them and then check if sum is multiple of 3. "
   ]
  },
  {
   "cell_type": "code",
   "execution_count": 19,
   "metadata": {},
   "outputs": [
    {
     "name": "stdout",
     "output_type": "stream",
     "text": [
      "24 is multiple of 3\n"
     ]
    }
   ],
   "source": [
    "# Python profram to check if n is a multiple of 3\n",
    " \n",
    "# Function to check if n is a multiple of 3\n",
    "def isMultipleOf3(n):\n",
    " \n",
    "    odd_count = 0\n",
    "    even_count = 0\n",
    " \n",
    "    # Make no positive if +n is multiple of 3\n",
    "    # then is -n. We are doing this to avoid\n",
    "    # stack overflow in recursion\n",
    "    if(n < 0): \n",
    "        n = -n\n",
    "    if(n == 0):\n",
    "        return 1\n",
    "    if(n == 1): \n",
    "        return 0\n",
    " \n",
    "    while(n):\n",
    "         \n",
    "        # If odd bit is set then\n",
    "        # increment odd counter \n",
    "        if(n & 1): \n",
    "            odd_count += 1\n",
    "        n = n >> 1\n",
    " \n",
    "        # If even bit is set then\n",
    "        # increment even counter \n",
    "        if(n & 1):\n",
    "            even_count += 1\n",
    "        n = n >> 1\n",
    " \n",
    "    return isMultipleOf3(abs(odd_count - even_count))\n",
    " \n",
    "# Program to test function isMultipleOf3 \n",
    "num = 24\n",
    "if (isMultipleOf3(num)): \n",
    "    print(num, 'is multiple of 3')\n",
    "else:\n",
    "    print(num, 'is not a multiple of 3')\n",
    " \n",
    "# This code is contributed by Danish Raza"
   ]
  },
  {
   "cell_type": "markdown",
   "metadata": {},
   "source": [
    "### Swap all odd and even bits\n",
    "Given an unsigned integer, swap all odd bits with even bits. For example, if the given number is 23 (00010111), it should be converted to 43 (00101011). Every even position bit is swapped with adjacent bit on right side (even position bits are highlighted in binary representation of 23), and every odd position bit is swapped with adjacent on left side. "
   ]
  },
  {
   "cell_type": "code",
   "execution_count": 20,
   "metadata": {},
   "outputs": [
    {
     "name": "stdout",
     "output_type": "stream",
     "text": [
      "43\n"
     ]
    }
   ],
   "source": [
    "# Python 3 program to swap even \n",
    "# and odd bits of a given number\n",
    " \n",
    "# Function for swapping even \n",
    "# and odd bits\n",
    "def swapBits(x) :\n",
    "     \n",
    "    # Get all even bits of x\n",
    "    even_bits = x & 0xAAAAAAAA\n",
    " \n",
    "    # Get all odd bits of x\n",
    "    odd_bits = x & 0x55555555\n",
    "     \n",
    "    # Right shift even bits\n",
    "    even_bits >>= 1\n",
    "     \n",
    "    # Left shift odd bits\n",
    "    odd_bits <<= 1\n",
    " \n",
    "    # Combine even and odd bits\n",
    "    return (even_bits | odd_bits) \n",
    " \n",
    " \n",
    "# Driver program\n",
    "# 00010111\n",
    "x = 23\n",
    " \n",
    "# Output is 43 (00101011)\n",
    "print(swapBits(x))"
   ]
  },
  {
   "cell_type": "markdown",
   "metadata": {},
   "source": [
    "### Check if a number is multiple of 9 using bitwise operators\n",
    "Given a number n, write a function that returns true if n is divisible by 9, else false. The most simple way to check for n’s divisibility by 9 is to do n%9. \n",
    "Another method is to sum the digits of n. If sum of digits is multiple of 9, then n is multiple of 9.\n",
    "The above methods are not bitwise operators based methods and require use of % and /."
   ]
  },
  {
   "cell_type": "code",
   "execution_count": 24,
   "metadata": {},
   "outputs": [
    {
     "name": "stdout",
     "output_type": "stream",
     "text": [
      "0\n",
      "9\n",
      "18\n",
      "27\n",
      "36\n",
      "45\n",
      "54\n",
      "63\n",
      "72\n",
      "81\n",
      "90\n",
      "99\n"
     ]
    }
   ],
   "source": [
    "def isDivBy9(n):\n",
    "    if (n == 0 or n == 9):\n",
    "        return True;\n",
    "    if (n < 9):\n",
    "        return False;\n",
    "    \n",
    "    return isDivBy9((n>>3) - (n&7));\n",
    " \n",
    "for i in range(0,100):\n",
    "    if (isDivBy9(i)):\n",
    "        print(i)"
   ]
  },
  {
   "cell_type": "markdown",
   "metadata": {},
   "source": [
    "### Check if binary representation of a number is palindrome\n",
    "Given an integer ‘x’, write a C function that returns true if binary representation of x is palindrome else return false.\n",
    "\n",
    "For example a numbers with binary representation as 10..01 is palindrome and number with binary representation as 10..00 is not palindrome.\n",
    "\n",
    "The idea is similar to checking a string is palindrome or not. We start from leftmost and rightmost bits and compare bits one by one. If we find a mismatch, then return false."
   ]
  },
  {
   "cell_type": "code",
   "execution_count": 31,
   "metadata": {},
   "outputs": [
    {
     "ename": "KeyboardInterrupt",
     "evalue": "",
     "output_type": "error",
     "traceback": [
      "\u001b[0;31m---------------------------------------------------------------------------\u001b[0m",
      "\u001b[0;31mKeyboardInterrupt\u001b[0m                         Traceback (most recent call last)",
      "\u001b[0;32m<ipython-input-31-5d0b1a16cc78>\u001b[0m in \u001b[0;36m<module>\u001b[0;34m()\u001b[0m\n\u001b[1;32m     16\u001b[0m     \u001b[0;32mreturn\u001b[0m \u001b[0;32mTrue\u001b[0m\u001b[0;34m;\u001b[0m\u001b[0;34m\u001b[0m\u001b[0m\n\u001b[1;32m     17\u001b[0m \u001b[0mx\u001b[0m \u001b[0;34m=\u001b[0m \u001b[0;36m1\u001b[0m\u001b[0;34m<<\u001b[0m\u001b[0;36m15\u001b[0m \u001b[0;34m+\u001b[0m \u001b[0;36m1\u001b[0m\u001b[0;34m<<\u001b[0m\u001b[0;36m16\u001b[0m\u001b[0;34m;\u001b[0m\u001b[0;34m\u001b[0m\u001b[0m\n\u001b[0;32m---> 18\u001b[0;31m \u001b[0misPalindrome\u001b[0m\u001b[0;34m(\u001b[0m\u001b[0mx\u001b[0m\u001b[0;34m)\u001b[0m\u001b[0;34m\u001b[0m\u001b[0m\n\u001b[0m",
      "\u001b[0;32m<ipython-input-31-5d0b1a16cc78>\u001b[0m in \u001b[0;36misPalindrome\u001b[0;34m(x)\u001b[0m\n\u001b[1;32m     10\u001b[0m \u001b[0;34m\u001b[0m\u001b[0m\n\u001b[1;32m     11\u001b[0m     \u001b[0;32mwhile\u001b[0m \u001b[0;34m(\u001b[0m\u001b[0ml\u001b[0m \u001b[0;34m<\u001b[0m \u001b[0mr\u001b[0m\u001b[0;34m)\u001b[0m\u001b[0;34m:\u001b[0m\u001b[0;34m\u001b[0m\u001b[0m\n\u001b[0;32m---> 12\u001b[0;31m         \u001b[0;32mif\u001b[0m \u001b[0;34m(\u001b[0m\u001b[0misKthBitSet\u001b[0m\u001b[0;34m(\u001b[0m\u001b[0mx\u001b[0m\u001b[0;34m,\u001b[0m \u001b[0ml\u001b[0m\u001b[0;34m)\u001b[0m \u001b[0;34m!=\u001b[0m \u001b[0misKthBitSet\u001b[0m\u001b[0;34m(\u001b[0m\u001b[0mx\u001b[0m\u001b[0;34m,\u001b[0m \u001b[0mr\u001b[0m\u001b[0;34m)\u001b[0m\u001b[0;34m)\u001b[0m\u001b[0;34m:\u001b[0m\u001b[0;34m\u001b[0m\u001b[0m\n\u001b[0m\u001b[1;32m     13\u001b[0m             \u001b[0;32mreturn\u001b[0m \u001b[0;32mFalse\u001b[0m\u001b[0;34m;\u001b[0m\u001b[0;34m\u001b[0m\u001b[0m\n\u001b[1;32m     14\u001b[0m             \u001b[0ml\u001b[0m\u001b[0;34m+=\u001b[0m\u001b[0;36m1\u001b[0m\u001b[0;34m;\u001b[0m\u001b[0;34m\u001b[0m\u001b[0m\n",
      "\u001b[0;32m<ipython-input-31-5d0b1a16cc78>\u001b[0m in \u001b[0;36misKthBitSet\u001b[0;34m(x, k)\u001b[0m\n\u001b[0;32m----> 1\u001b[0;31m \u001b[0;32mdef\u001b[0m \u001b[0misKthBitSet\u001b[0m\u001b[0;34m(\u001b[0m\u001b[0mx\u001b[0m\u001b[0;34m,\u001b[0m\u001b[0mk\u001b[0m\u001b[0;34m)\u001b[0m\u001b[0;34m:\u001b[0m\u001b[0;34m\u001b[0m\u001b[0m\n\u001b[0m\u001b[1;32m      2\u001b[0m     \u001b[0;32mif\u001b[0m \u001b[0;34m(\u001b[0m\u001b[0mx\u001b[0m \u001b[0;34m&\u001b[0m \u001b[0;34m(\u001b[0m\u001b[0;36m1\u001b[0m \u001b[0;34m<<\u001b[0m \u001b[0;34m(\u001b[0m\u001b[0mk\u001b[0m\u001b[0;34m-\u001b[0m\u001b[0;36m1\u001b[0m\u001b[0;34m)\u001b[0m\u001b[0;34m)\u001b[0m\u001b[0;34m)\u001b[0m\u001b[0;34m:\u001b[0m\u001b[0;34m\u001b[0m\u001b[0m\n\u001b[1;32m      3\u001b[0m         \u001b[0;32mreturn\u001b[0m \u001b[0;32mTrue\u001b[0m\u001b[0;34m\u001b[0m\u001b[0m\n\u001b[1;32m      4\u001b[0m     \u001b[0;32melse\u001b[0m\u001b[0;34m:\u001b[0m\u001b[0;34m\u001b[0m\u001b[0m\n\u001b[1;32m      5\u001b[0m         \u001b[0;32mreturn\u001b[0m \u001b[0;32mFalse\u001b[0m\u001b[0;34m;\u001b[0m\u001b[0;34m\u001b[0m\u001b[0m\n",
      "\u001b[0;31mKeyboardInterrupt\u001b[0m: "
     ]
    }
   ],
   "source": [
    "def isKthBitSet(x,k):\n",
    "    if (x & (1 << (k-1))):\n",
    "        return True\n",
    "    else: \n",
    "        return False;\n",
    " \n",
    "def isPalindrome(x):\n",
    "    l = 1\n",
    "    r = 32;\n",
    "\n",
    "    while (l < r):\n",
    "        if (isKthBitSet(x, l) != isKthBitSet(x, r)):\n",
    "            return False;\n",
    "            l+=1;     \n",
    "            r-=1;\n",
    "    return True;\n",
    "x = 1<<15 + 1<<16;\n",
    "isPalindrome(x)"
   ]
  },
  {
   "cell_type": "markdown",
   "metadata": {
    "collapsed": true
   },
   "source": [
    "### Given a positive integer n. The problem is to check if the number is Fibbinary Number or not. Fibbinary numbers are integers whose binary representation contains no consecutive ones.\n",
    "\n",
    "Examples:\n",
    "\n",
    "Input : 10\n",
    "Output : Yes\n",
    "Explanation: 1010 is the binary representation \n",
    "             of 10 which does not contains any \n",
    "             consecutive 1's.\n",
    "\n",
    "Input : 11\n",
    "Output : No\n",
    "Explanation: 1011 is the binary representation \n",
    "             of 11, which contains consecutive \n",
    "             1's."
   ]
  },
  {
   "cell_type": "code",
   "execution_count": 1,
   "metadata": {},
   "outputs": [
    {
     "name": "stdout",
     "output_type": "stream",
     "text": [
      "Yes\n"
     ]
    }
   ],
   "source": [
    "# Python3 program to check if a number \n",
    "# is fibinnary number or not \n",
    "\n",
    "# function to check whether a number\n",
    "# is fibbinary or not\n",
    "def isFibbinaryNum( n):\n",
    "    \n",
    "    # if the number does not contain adjacent\n",
    "    # ones then (n & (n >> 1)) operation \n",
    "    # results to 0\n",
    "    if ((n & (n >> 1)) == 0):\n",
    "        return 1\n",
    "        \n",
    "    # Not a fibbinary number\n",
    "    return 0\n",
    "\n",
    "# Driver code\n",
    "n = 10\n",
    "\n",
    "if (isFibbinaryNum(n)):\n",
    "    print(\"Yes\")\n",
    "else:\n",
    "    print(\"No\")"
   ]
  },
  {
   "cell_type": "markdown",
   "metadata": {},
   "source": [
    "### Find the maximum subarray XOR in a given array\n",
    "Given an array of integers. find the maximum XOR subarray value in given array. Expected time complexity O(n).\n",
    "\n",
    "Examples:\n",
    "\n",
    "Input: arr[] = {1, 2, 3, 4}\n",
    "Output: 7\n",
    "The subarray {3, 4} has maximum XOR value\n",
    "\n",
    "Input: arr[] = {8, 1, 2, 12, 7, 6}\n",
    "Output: 15\n",
    "The subarray {1, 2, 12} has maximum XOR value\n",
    "\n",
    "Input: arr[] = {4, 6}\n",
    "Output: 6\n",
    "The subarray {6} has maximum XOR value"
   ]
  },
  {
   "cell_type": "code",
   "execution_count": 2,
   "metadata": {},
   "outputs": [
    {
     "name": "stdout",
     "output_type": "stream",
     "text": [
      "Max subarray XOR is  15\n"
     ]
    }
   ],
   "source": [
    "# A simple Python program\n",
    "# to find max subarray XOR\n",
    " \n",
    "def maxSubarrayXOR(arr,n):\n",
    " \n",
    "    ans = -2147483648     #Initialize result\n",
    "  \n",
    "    # Pick starting points of subarrays\n",
    "    for i in range(n):\n",
    "         \n",
    "        # to store xor of current subarray\n",
    "        curr_xor = 0\n",
    "  \n",
    "        # Pick ending points of\n",
    "        # subarrays starting with i\n",
    "        for j in range(i,n):\n",
    "         \n",
    "            curr_xor = curr_xor ^ arr[j]\n",
    "            ans = max(ans, curr_xor)\n",
    "         \n",
    "     \n",
    "    return ans\n",
    " \n",
    " \n",
    "# Driver code\n",
    " \n",
    "arr = [8, 1, 2, 12]\n",
    "n = len(arr)\n",
    " \n",
    "print(\"Max subarray XOR is \",\n",
    "     maxSubarrayXOR(arr, n))"
   ]
  },
  {
   "cell_type": "code",
   "execution_count": null,
   "metadata": {
    "collapsed": true
   },
   "outputs": [],
   "source": []
  }
 ],
 "metadata": {
  "kernelspec": {
   "display_name": "Python 3",
   "language": "python",
   "name": "python3"
  },
  "language_info": {
   "codemirror_mode": {
    "name": "ipython",
    "version": 3
   },
   "file_extension": ".py",
   "mimetype": "text/x-python",
   "name": "python",
   "nbconvert_exporter": "python",
   "pygments_lexer": "ipython3",
   "version": "3.6.3"
  }
 },
 "nbformat": 4,
 "nbformat_minor": 2
}
